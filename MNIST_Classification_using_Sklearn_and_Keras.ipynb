{
  "cells": [
    {
      "cell_type": "markdown",
      "metadata": {
        "id": "view-in-github",
        "colab_type": "text"
      },
      "source": [
        "<a href=\"https://colab.research.google.com/github/ZeeshanAhmed95/MNIST-Classification-Keras/blob/main/MNIST_Classification_using_Sklearn_and_Keras.ipynb\" target=\"_parent\"><img src=\"https://colab.research.google.com/assets/colab-badge.svg\" alt=\"Open In Colab\"/></a>"
      ]
    },
    {
      "cell_type": "markdown",
      "source": [
        "## **Approach :**\n",
        "1. **Load all the libraries and Data**\n",
        "2. **Data Preparations**\n",
        "3. **Data Visualization**\n",
        "4. **Analysis** -\n",
        "      - ***Sklearn***\n",
        "           - Perceptron\n",
        "           - Multi Layer Perceptron\n",
        "\n",
        "      - ***Keras***  \n",
        "          - Set the model (sequential/functional): we will use sequential initially\n",
        "\n",
        "          - Set up the layers: Dense and Dropout\n",
        "\n",
        "          - Compile the model: Optimizer, Loss function, Batch\n",
        "\n",
        "          - Fit the model: (x,y, epochs)\n",
        "\n",
        "          - Predict with the model (validation dataset)\n",
        "\n",
        "\n",
        "\n",
        "\n",
        "\n"
      ],
      "metadata": {
        "id": "P-KEGD4VkND9"
      }
    },
    {
      "cell_type": "code",
      "execution_count": null,
      "metadata": {
        "colab": {
          "base_uri": "https://localhost:8080/"
        },
        "id": "b-D8YzHr-IFk",
        "outputId": "2645b8ad-ce19-4a32-938d-50e8d2ea93ee"
      },
      "outputs": [
        {
          "output_type": "stream",
          "name": "stdout",
          "text": [
            "Archive:  /content/digit-recognizer (1).zip\n",
            "  inflating: sample_submission.csv   \n",
            "  inflating: test.csv                \n",
            "  inflating: train.csv               \n"
          ]
        }
      ],
      "source": [
        "!unzip '/content/digit-recognizer (1).zip'"
      ]
    },
    {
      "cell_type": "markdown",
      "metadata": {
        "id": "KbuLAzUyUGXN"
      },
      "source": [
        "Import all standard libraries and data"
      ]
    },
    {
      "cell_type": "code",
      "execution_count": null,
      "metadata": {
        "id": "Z8utGjJ5UIwt"
      },
      "outputs": [],
      "source": [
        "import pandas as pd\n",
        "import numpy as np\n",
        "import matplotlib.pyplot as plt\n",
        "from sklearn.model_selection import train_test_split\n",
        "from sklearn.linear_model import Perceptron\n",
        "from sklearn.neural_network import MLPClassifier\n",
        "from sklearn.metrics import classification_report, confusion_matrix, accuracy_score\n",
        "#######Keras libraries and  Modules#######\n",
        "import tensorflow as tf\n",
        "from keras.models import Sequential\n",
        "from keras.layers import Dense, Dropout\n",
        "from keras.optimizers import SGD, Adam\n",
        "from tensorflow.keras.utils import to_categorical"
      ]
    },
    {
      "cell_type": "markdown",
      "metadata": {
        "id": "OJD2YDbjX3t-"
      },
      "source": [
        "Load the  data"
      ]
    },
    {
      "cell_type": "code",
      "execution_count": null,
      "metadata": {
        "id": "hfG1fRioX5P3"
      },
      "outputs": [],
      "source": [
        "train = pd.read_csv('/content/train.csv')\n",
        "test = pd.read_csv('/content/test.csv')"
      ]
    },
    {
      "cell_type": "code",
      "execution_count": null,
      "metadata": {
        "colab": {
          "base_uri": "https://localhost:8080/"
        },
        "id": "uCi-STi0YZCZ",
        "outputId": "3711076b-7ed7-4a73-b1a0-79e29c0593b1"
      },
      "outputs": [
        {
          "output_type": "stream",
          "name": "stdout",
          "text": [
            "(42000, 785)\n",
            "(28000, 784)\n"
          ]
        }
      ],
      "source": [
        "print(train.shape)\n",
        "print(test.shape)"
      ]
    },
    {
      "cell_type": "code",
      "execution_count": null,
      "metadata": {
        "colab": {
          "base_uri": "https://localhost:8080/"
        },
        "id": "JxCyI7mCZO10",
        "outputId": "6bdb1642-2494-441c-9587-e1c7eb3cbf88"
      },
      "outputs": [
        {
          "output_type": "execute_result",
          "data": {
            "text/plain": [
              "label         0.026479\n",
              "pixel0        0.000000\n",
              "pixel1        0.000000\n",
              "pixel2        0.000000\n",
              "pixel3        0.000000\n",
              "               ...    \n",
              "pixel779    145.149671\n",
              "pixel780      0.000000\n",
              "pixel781      0.000000\n",
              "pixel782      0.000000\n",
              "pixel783      0.000000\n",
              "Length: 785, dtype: float64"
            ]
          },
          "metadata": {},
          "execution_count": 5
        }
      ],
      "source": [
        "train.skew()"
      ]
    },
    {
      "cell_type": "code",
      "execution_count": null,
      "metadata": {
        "colab": {
          "base_uri": "https://localhost:8080/",
          "height": 447
        },
        "id": "zlUHnX-YJaME",
        "outputId": "2b9658c6-4733-4bff-cdad-7a668c2019e1"
      },
      "outputs": [
        {
          "output_type": "execute_result",
          "data": {
            "text/plain": [
              "<matplotlib.image.AxesImage at 0x7f77aef153c0>"
            ]
          },
          "metadata": {},
          "execution_count": 6
        },
        {
          "output_type": "display_data",
          "data": {
            "text/plain": [
              "<Figure size 640x480 with 1 Axes>"
            ],
            "image/png": "[encoded data removed]"
          },
          "metadata": {}
        }
      ],
      "source": [
        "features = [\"pixel{}\".format(pixel_num) for pixel_num in range(0,784)]\n",
        "rows_to_examine = 3\n",
        "image_data = np.reshape(train[features][rows_to_examine:rows_to_examine+1].to_numpy(), (28,28))\n",
        "plt.imshow(image_data, cmap = 'gray')"
      ]
    },
    {
      "cell_type": "markdown",
      "metadata": {
        "id": "_InVtWCtQxuJ"
      },
      "source": [
        "Break the data into Images and Labels"
      ]
    },
    {
      "cell_type": "code",
      "execution_count": null,
      "metadata": {
        "id": "hCIxlmupQ0Mt"
      },
      "outputs": [],
      "source": [
        "x = train.iloc[:,1:]\n",
        "y = train['label']"
      ]
    },
    {
      "cell_type": "code",
      "execution_count": null,
      "metadata": {
        "colab": {
          "base_uri": "https://localhost:8080/"
        },
        "id": "uHzQFuIQRC78",
        "outputId": "42dd4ed7-06d3-448d-84ca-4a6ac5f36b4c"
      },
      "outputs": [
        {
          "output_type": "stream",
          "name": "stdout",
          "text": [
            "(42000, 784)\n",
            "(42000,)\n"
          ]
        }
      ],
      "source": [
        "print(x.shape)\n",
        "print(y.shape)"
      ]
    },
    {
      "cell_type": "markdown",
      "metadata": {
        "id": "8qeHWjeGRvHu"
      },
      "source": [
        "Train Test Split of Images"
      ]
    },
    {
      "cell_type": "code",
      "execution_count": null,
      "metadata": {
        "id": "_v5iDXRtRyGS"
      },
      "outputs": [],
      "source": [
        "x_train, x_test, y_train, y_test = train_test_split(x, y, test_size = 0.2, random_state = 123)"
      ]
    },
    {
      "cell_type": "code",
      "execution_count": null,
      "metadata": {
        "colab": {
          "base_uri": "https://localhost:8080/"
        },
        "id": "sWxKsMDVSD7-",
        "outputId": "3f4bbc4e-e03c-494d-8b89-173f6da1d5f4"
      },
      "outputs": [
        {
          "output_type": "stream",
          "name": "stdout",
          "text": [
            "(33600, 784)\n",
            "(8400, 784)\n",
            "(33600,)\n",
            "(8400,)\n"
          ]
        }
      ],
      "source": [
        "print(x_train.shape)\n",
        "print(x_test.shape)\n",
        "print(y_train.shape)\n",
        "print(y_test.shape)"
      ]
    },
    {
      "cell_type": "markdown",
      "metadata": {
        "id": "j1phS5QGTNuP"
      },
      "source": [
        "Implement a Single Layer Perceptron"
      ]
    },
    {
      "cell_type": "code",
      "execution_count": null,
      "metadata": {
        "colab": {
          "base_uri": "https://localhost:8080/"
        },
        "id": "K7ekqaTuTRMD",
        "outputId": "bd5bfe47-c9c9-4024-b315-ac3898db4384"
      },
      "outputs": [
        {
          "output_type": "stream",
          "name": "stderr",
          "text": [
            "[Parallel(n_jobs=1)]: Using backend SequentialBackend with 1 concurrent workers.\n"
          ]
        },
        {
          "output_type": "stream",
          "name": "stdout",
          "text": [
            "-- Epoch 1\n",
            "Norm: 33680.40, NNZs: 599, Bias: -92.000000, T: 33600, Avg. loss: 46817.951667\n",
            "Total training time: 0.05 seconds.\n",
            "-- Epoch 2\n",
            "Norm: 42819.49, NNZs: 607, Bias: -161.000000, T: 67200, Avg. loss: 41184.869077\n",
            "Total training time: 0.11 seconds.\n",
            "-- Epoch 3\n",
            "Norm: 48607.75, NNZs: 614, Bias: -222.000000, T: 100800, Avg. loss: 36891.702232\n",
            "Total training time: 0.16 seconds.\n",
            "-- Epoch 4\n",
            "Norm: 54442.08, NNZs: 625, Bias: -281.000000, T: 134400, Avg. loss: 35999.461042\n",
            "Total training time: 0.21 seconds.\n",
            "-- Epoch 5\n",
            "Norm: 58608.01, NNZs: 631, Bias: -333.000000, T: 168000, Avg. loss: 37009.589702\n",
            "Total training time: 0.26 seconds.\n",
            "-- Epoch 6\n",
            "Norm: 61946.25, NNZs: 635, Bias: -383.000000, T: 201600, Avg. loss: 34799.316220\n",
            "Total training time: 0.31 seconds.\n",
            "-- Epoch 7\n",
            "Norm: 65207.63, NNZs: 637, Bias: -432.000000, T: 235200, Avg. loss: 36238.479613\n",
            "Total training time: 0.37 seconds.\n",
            "-- Epoch 8\n",
            "Norm: 68995.89, NNZs: 639, Bias: -476.000000, T: 268800, Avg. loss: 34062.205625\n",
            "Total training time: 0.42 seconds.\n",
            "-- Epoch 9\n",
            "Norm: 72716.99, NNZs: 639, Bias: -521.000000, T: 302400, Avg. loss: 32438.202173\n",
            "Total training time: 0.47 seconds.\n",
            "-- Epoch 10\n",
            "Norm: 75447.16, NNZs: 639, Bias: -563.000000, T: 336000, Avg. loss: 32292.536667\n",
            "Total training time: 0.52 seconds.\n",
            "-- Epoch 11\n",
            "Norm: 77822.41, NNZs: 639, Bias: -609.000000, T: 369600, Avg. loss: 34301.058214\n",
            "Total training time: 0.58 seconds.\n",
            "-- Epoch 12\n",
            "Norm: 81007.01, NNZs: 639, Bias: -661.000000, T: 403200, Avg. loss: 35224.191131\n",
            "Total training time: 0.63 seconds.\n",
            "-- Epoch 13\n",
            "Norm: 82890.94, NNZs: 639, Bias: -705.000000, T: 436800, Avg. loss: 33747.325863\n",
            "Total training time: 0.68 seconds.\n",
            "-- Epoch 14\n",
            "Norm: 84973.26, NNZs: 639, Bias: -748.000000, T: 470400, Avg. loss: 31301.132321\n",
            "Total training time: 0.74 seconds.\n",
            "-- Epoch 15\n",
            "Norm: 87757.36, NNZs: 639, Bias: -792.000000, T: 504000, Avg. loss: 32312.222708\n",
            "Total training time: 0.79 seconds.\n",
            "-- Epoch 16\n",
            "Norm: 89517.12, NNZs: 639, Bias: -834.000000, T: 537600, Avg. loss: 31293.953988\n",
            "Total training time: 0.85 seconds.\n",
            "-- Epoch 17\n",
            "Norm: 92120.81, NNZs: 639, Bias: -879.000000, T: 571200, Avg. loss: 31823.835923\n",
            "Total training time: 0.91 seconds.\n",
            "-- Epoch 18\n",
            "Norm: 93354.02, NNZs: 639, Bias: -923.000000, T: 604800, Avg. loss: 32199.063512\n",
            "Total training time: 0.96 seconds.\n",
            "-- Epoch 19\n",
            "Norm: 95389.80, NNZs: 639, Bias: -962.000000, T: 638400, Avg. loss: 31501.624494\n",
            "Total training time: 1.01 seconds.\n",
            "-- Epoch 20\n",
            "Norm: 97060.82, NNZs: 639, Bias: -1013.000000, T: 672000, Avg. loss: 32789.124375\n",
            "Total training time: 1.07 seconds.\n",
            "-- Epoch 21\n",
            "Norm: 99342.75, NNZs: 639, Bias: -1061.000000, T: 705600, Avg. loss: 33667.573423\n",
            "Total training time: 1.12 seconds.\n",
            "Convergence after 21 epochs took 1.12 seconds\n",
            "-- Epoch 1\n",
            "Norm: 26398.31, NNZs: 560, Bias: -34.000000, T: 33600, Avg. loss: 25361.617619\n",
            "Total training time: 0.05 seconds.\n",
            "-- Epoch 2\n",
            "Norm: 31613.19, NNZs: 570, Bias: -58.000000, T: 67200, Avg. loss: 22125.669107\n",
            "Total training time: 0.10 seconds.\n",
            "-- Epoch 3\n"
          ]
        },
        {
          "output_type": "stream",
          "name": "stderr",
          "text": [
            "[Parallel(n_jobs=1)]: Done   1 out of   1 | elapsed:    1.1s remaining:    0.0s\n"
          ]
        },
        {
          "output_type": "stream",
          "name": "stdout",
          "text": [
            "Norm: 36264.55, NNZs: 571, Bias: -73.000000, T: 100800, Avg. loss: 21133.352976\n",
            "Total training time: 0.16 seconds.\n",
            "-- Epoch 4\n",
            "Norm: 38909.07, NNZs: 576, Bias: -84.000000, T: 134400, Avg. loss: 20576.478393\n",
            "Total training time: 0.21 seconds.\n",
            "-- Epoch 5\n",
            "Norm: 41697.16, NNZs: 578, Bias: -98.000000, T: 168000, Avg. loss: 19900.769613\n",
            "Total training time: 0.26 seconds.\n",
            "-- Epoch 6\n",
            "Norm: 44398.44, NNZs: 581, Bias: -105.000000, T: 201600, Avg. loss: 20754.749137\n",
            "Total training time: 0.32 seconds.\n",
            "-- Epoch 7\n",
            "Norm: 46842.38, NNZs: 583, Bias: -118.000000, T: 235200, Avg. loss: 19517.157589\n",
            "Total training time: 0.37 seconds.\n",
            "-- Epoch 8\n",
            "Norm: 49225.67, NNZs: 594, Bias: -128.000000, T: 268800, Avg. loss: 19386.208720\n",
            "Total training time: 0.42 seconds.\n",
            "-- Epoch 9\n",
            "Norm: 51823.38, NNZs: 599, Bias: -137.000000, T: 302400, Avg. loss: 18184.694405\n",
            "Total training time: 0.48 seconds.\n",
            "-- Epoch 10\n",
            "Norm: 54147.67, NNZs: 600, Bias: -143.000000, T: 336000, Avg. loss: 17881.692321\n",
            "Total training time: 0.53 seconds.\n",
            "-- Epoch 11\n",
            "Norm: 56021.15, NNZs: 604, Bias: -148.000000, T: 369600, Avg. loss: 18653.010893\n",
            "Total training time: 0.58 seconds.\n",
            "-- Epoch 12\n",
            "Norm: 58496.56, NNZs: 609, Bias: -153.000000, T: 403200, Avg. loss: 18471.054405\n",
            "Total training time: 0.64 seconds.\n",
            "-- Epoch 13\n",
            "Norm: 59823.30, NNZs: 609, Bias: -163.000000, T: 436800, Avg. loss: 18384.287500\n",
            "Total training time: 0.69 seconds.\n",
            "-- Epoch 14\n",
            "Norm: 61703.24, NNZs: 609, Bias: -173.000000, T: 470400, Avg. loss: 17105.853750\n",
            "Total training time: 0.74 seconds.\n",
            "-- Epoch 15\n",
            "Norm: 63489.23, NNZs: 612, Bias: -181.000000, T: 504000, Avg. loss: 18975.412976\n",
            "Total training time: 0.79 seconds.\n",
            "-- Epoch 16\n",
            "Norm: 65371.44, NNZs: 612, Bias: -186.000000, T: 537600, Avg. loss: 17669.717976\n",
            "Total training time: 0.85 seconds.\n",
            "-- Epoch 17\n",
            "Norm: 66946.91, NNZs: 614, Bias: -194.000000, T: 571200, Avg. loss: 17663.917560\n",
            "Total training time: 0.90 seconds.\n",
            "-- Epoch 18\n",
            "Norm: 68839.28, NNZs: 617, Bias: -203.000000, T: 604800, Avg. loss: 18486.346875\n",
            "Total training time: 0.95 seconds.\n",
            "-- Epoch 19\n",
            "Norm: 70613.40, NNZs: 617, Bias: -213.000000, T: 638400, Avg. loss: 18157.243452\n",
            "Total training time: 1.00 seconds.\n",
            "Convergence after 19 epochs took 1.00 seconds\n",
            "-- Epoch 1\n",
            "Norm: 37314.14, NNZs: 631, Bias: -88.000000, T: 33600, Avg. loss: 96577.045923\n",
            "Total training time: 0.05 seconds.\n",
            "-- Epoch 2\n",
            "Norm: 44128.72, NNZs: 636, Bias: -162.000000, T: 67200, Avg. loss: 90873.737083\n",
            "Total training time: 0.11 seconds.\n",
            "-- Epoch 3\n",
            "Norm: 50583.74, NNZs: 642, Bias: -231.000000, T: 100800, Avg. loss: 89628.583750\n",
            "Total training time: 0.16 seconds.\n",
            "-- Epoch 4\n",
            "Norm: 54168.58, NNZs: 643, Bias: -302.000000, T: 134400, Avg. loss: 90226.199018\n",
            "Total training time: 0.21 seconds.\n",
            "-- Epoch 5\n",
            "Norm: 56510.36, NNZs: 643, Bias: -357.000000, T: 168000, Avg. loss: 86301.561548\n",
            "Total training time: 0.26 seconds.\n",
            "-- Epoch 6\n",
            "Norm: 62285.13, NNZs: 644, Bias: -425.000000, T: 201600, Avg. loss: 88602.669762\n",
            "Total training time: 0.32 seconds.\n",
            "-- Epoch 7\n",
            "Norm: 63389.29, NNZs: 644, Bias: -489.000000, T: 235200, Avg. loss: 87977.359286\n",
            "Total training time: 0.37 seconds.\n",
            "-- Epoch 8\n",
            "Norm: 66491.61, NNZs: 644, Bias: -556.000000, T: 268800, Avg. loss: 85774.638423\n",
            "Total training time: 0.42 seconds.\n",
            "-- Epoch 9\n",
            "Norm: 69262.00, NNZs: 644, Bias: -609.000000, T: 302400, Avg. loss: 87651.091399\n",
            "Total training time: 0.48 seconds.\n",
            "-- Epoch 10\n",
            "Norm: 71601.70, NNZs: 644, Bias: -668.000000, T: 336000, Avg. loss: 85173.424613\n",
            "Total training time: 0.53 seconds.\n",
            "-- Epoch 11\n",
            "Norm: 74203.18, NNZs: 645, Bias: -723.000000, T: 369600, Avg. loss: 86586.834167\n",
            "Total training time: 0.58 seconds.\n",
            "-- Epoch 12\n",
            "Norm: 75418.48, NNZs: 646, Bias: -781.000000, T: 403200, Avg. loss: 84865.833690\n",
            "Total training time: 0.64 seconds.\n",
            "-- Epoch 13\n",
            "Norm: 76865.98, NNZs: 646, Bias: -832.000000, T: 436800, Avg. loss: 90802.518750\n",
            "Total training time: 0.69 seconds.\n",
            "-- Epoch 14\n",
            "Norm: 78601.91, NNZs: 646, Bias: -887.000000, T: 470400, Avg. loss: 89849.372232\n",
            "Total training time: 0.74 seconds.\n",
            "-- Epoch 15\n",
            "Norm: 81254.93, NNZs: 650, Bias: -951.000000, T: 504000, Avg. loss: 84589.548869\n",
            "Total training time: 0.79 seconds.\n",
            "-- Epoch 16\n",
            "Norm: 82067.45, NNZs: 649, Bias: -1013.000000, T: 537600, Avg. loss: 88280.016190\n",
            "Total training time: 0.85 seconds.\n",
            "-- Epoch 17\n",
            "Norm: 84184.62, NNZs: 650, Bias: -1075.000000, T: 571200, Avg. loss: 85966.068036\n",
            "Total training time: 0.91 seconds.\n",
            "-- Epoch 18\n",
            "Norm: 85028.95, NNZs: 650, Bias: -1128.000000, T: 604800, Avg. loss: 88452.863333\n",
            "Total training time: 0.96 seconds.\n",
            "-- Epoch 19\n",
            "Norm: 86305.68, NNZs: 650, Bias: -1185.000000, T: 638400, Avg. loss: 83922.722500\n",
            "Total training time: 1.01 seconds.\n",
            "-- Epoch 20\n",
            "Norm: 87377.31, NNZs: 650, Bias: -1242.000000, T: 672000, Avg. loss: 87437.992798\n",
            "Total training time: 1.06 seconds.\n",
            "-- Epoch 21\n",
            "Norm: 88789.49, NNZs: 654, Bias: -1291.000000, T: 705600, Avg. loss: 86266.221339\n",
            "Total training time: 1.12 seconds.\n",
            "-- Epoch 22\n",
            "Norm: 89872.88, NNZs: 654, Bias: -1346.000000, T: 739200, Avg. loss: 84863.819226\n",
            "Total training time: 1.17 seconds.\n",
            "-- Epoch 23\n",
            "Norm: 90691.38, NNZs: 655, Bias: -1392.000000, T: 772800, Avg. loss: 84192.695446\n",
            "Total training time: 1.22 seconds.\n",
            "-- Epoch 24\n",
            "Norm: 92075.79, NNZs: 654, Bias: -1456.000000, T: 806400, Avg. loss: 89009.586488\n",
            "Total training time: 1.28 seconds.\n",
            "Convergence after 24 epochs took 1.28 seconds\n",
            "-- Epoch 1\n",
            "Norm: 35843.44, NNZs: 592, Bias: -183.000000, T: 33600, Avg. loss: 128480.352351\n",
            "Total training time: 0.05 seconds.\n",
            "-- Epoch 2\n",
            "Norm: 42126.43, NNZs: 601, Bias: -326.000000, T: 67200, Avg. loss: 129710.005357\n",
            "Total training time: 0.11 seconds.\n",
            "-- Epoch 3\n",
            "Norm: 47657.56, NNZs: 606, Bias: -466.000000, T: 100800, Avg. loss: 121485.599970\n",
            "Total training time: 0.16 seconds.\n",
            "-- Epoch 4\n",
            "Norm: 53381.81, NNZs: 608, Bias: -589.000000, T: 134400, Avg. loss: 124830.879792\n",
            "Total training time: 0.21 seconds.\n",
            "-- Epoch 5\n",
            "Norm: 57446.25, NNZs: 610, Bias: -717.000000, T: 168000, Avg. loss: 123217.713780\n",
            "Total training time: 0.27 seconds.\n",
            "-- Epoch 6\n",
            "Norm: 59583.12, NNZs: 610, Bias: -832.000000, T: 201600, Avg. loss: 124839.120506\n",
            "Total training time: 0.32 seconds.\n",
            "-- Epoch 7\n",
            "Norm: 61814.28, NNZs: 611, Bias: -969.000000, T: 235200, Avg. loss: 124496.203720\n",
            "Total training time: 0.37 seconds.\n",
            "-- Epoch 8\n",
            "Norm: 64293.43, NNZs: 611, Bias: -1105.000000, T: 268800, Avg. loss: 121835.435774\n",
            "Total training time: 0.43 seconds.\n",
            "Convergence after 8 epochs took 0.43 seconds\n",
            "-- Epoch 1\n",
            "Norm: 37641.17, NNZs: 632, Bias: -63.000000, T: 33600, Avg. loss: 80582.521369\n",
            "Total training time: 0.05 seconds.\n",
            "-- Epoch 2\n",
            "Norm: 45561.48, NNZs: 643, Bias: -110.000000, T: 67200, Avg. loss: 67452.582917\n",
            "Total training time: 0.11 seconds.\n",
            "-- Epoch 3\n",
            "Norm: 51531.62, NNZs: 657, Bias: -140.000000, T: 100800, Avg. loss: 65367.227470\n",
            "Total training time: 0.16 seconds.\n",
            "-- Epoch 4\n",
            "Norm: 56796.33, NNZs: 660, Bias: -176.000000, T: 134400, Avg. loss: 61077.277024\n",
            "Total training time: 0.23 seconds.\n",
            "-- Epoch 5\n",
            "Norm: 61779.10, NNZs: 661, Bias: -220.000000, T: 168000, Avg. loss: 62217.314673\n",
            "Total training time: 0.28 seconds.\n",
            "-- Epoch 6\n",
            "Norm: 66212.86, NNZs: 665, Bias: -257.000000, T: 201600, Avg. loss: 62441.151220\n",
            "Total training time: 0.33 seconds.\n",
            "-- Epoch 7\n",
            "Norm: 70281.72, NNZs: 665, Bias: -301.000000, T: 235200, Avg. loss: 60719.254881\n",
            "Total training time: 0.38 seconds.\n",
            "-- Epoch 8\n",
            "Norm: 73357.68, NNZs: 666, Bias: -339.000000, T: 268800, Avg. loss: 59862.561071\n",
            "Total training time: 0.43 seconds.\n",
            "-- Epoch 9\n",
            "Norm: 75843.56, NNZs: 668, Bias: -382.000000, T: 302400, Avg. loss: 59100.903899\n",
            "Total training time: 0.49 seconds.\n",
            "-- Epoch 10\n",
            "Norm: 78748.74, NNZs: 668, Bias: -416.000000, T: 336000, Avg. loss: 60639.541577\n",
            "Total training time: 0.54 seconds.\n",
            "-- Epoch 11\n",
            "Norm: 80260.03, NNZs: 668, Bias: -447.000000, T: 369600, Avg. loss: 59565.494315\n",
            "Total training time: 0.59 seconds.\n",
            "-- Epoch 12\n",
            "Norm: 82765.54, NNZs: 668, Bias: -475.000000, T: 403200, Avg. loss: 58853.275179\n",
            "Total training time: 0.64 seconds.\n",
            "-- Epoch 13\n",
            "Norm: 84879.71, NNZs: 668, Bias: -510.000000, T: 436800, Avg. loss: 60189.332113\n",
            "Total training time: 0.70 seconds.\n",
            "-- Epoch 14\n",
            "Norm: 86717.81, NNZs: 668, Bias: -555.000000, T: 470400, Avg. loss: 59021.259107\n",
            "Total training time: 0.75 seconds.\n",
            "-- Epoch 15\n",
            "Norm: 88321.25, NNZs: 668, Bias: -590.000000, T: 504000, Avg. loss: 60514.877024\n",
            "Total training time: 0.80 seconds.\n",
            "-- Epoch 16\n",
            "Norm: 90614.48, NNZs: 670, Bias: -625.000000, T: 537600, Avg. loss: 58115.752589\n",
            "Total training time: 0.86 seconds.\n",
            "-- Epoch 17\n",
            "Norm: 92847.08, NNZs: 670, Bias: -663.000000, T: 571200, Avg. loss: 60877.726012\n",
            "Total training time: 0.91 seconds.\n",
            "-- Epoch 18\n",
            "Norm: 94550.09, NNZs: 671, Bias: -694.000000, T: 604800, Avg. loss: 57533.169613\n",
            "Total training time: 0.97 seconds.\n",
            "-- Epoch 19\n",
            "Norm: 95684.10, NNZs: 671, Bias: -728.000000, T: 638400, Avg. loss: 59977.879911\n",
            "Total training time: 1.04 seconds.\n",
            "-- Epoch 20\n",
            "Norm: 96928.58, NNZs: 671, Bias: -761.000000, T: 672000, Avg. loss: 60506.035565\n",
            "Total training time: 1.10 seconds.\n",
            "-- Epoch 21\n",
            "Norm: 98871.28, NNZs: 671, Bias: -799.000000, T: 705600, Avg. loss: 57912.343601\n",
            "Total training time: 1.16 seconds.\n",
            "-- Epoch 22\n",
            "Norm: 99679.73, NNZs: 671, Bias: -832.000000, T: 739200, Avg. loss: 60952.210387\n",
            "Total training time: 1.22 seconds.\n",
            "-- Epoch 23\n",
            "Norm: 100897.16, NNZs: 672, Bias: -876.000000, T: 772800, Avg. loss: 61936.474762\n",
            "Total training time: 1.29 seconds.\n",
            "Convergence after 23 epochs took 1.30 seconds\n",
            "-- Epoch 1\n",
            "Norm: 42423.66, NNZs: 606, Bias: 27.000000, T: 33600, Avg. loss: 130188.282381\n",
            "Total training time: 0.07 seconds.\n",
            "-- Epoch 2\n",
            "Norm: 51881.43, NNZs: 619, Bias: 55.000000, T: 67200, Avg. loss: 119434.731429\n",
            "Total training time: 0.13 seconds.\n",
            "-- Epoch 3\n",
            "Norm: 57337.03, NNZs: 628, Bias: 90.000000, T: 100800, Avg. loss: 113136.772054\n",
            "Total training time: 0.19 seconds.\n",
            "-- Epoch 4\n",
            "Norm: 62414.69, NNZs: 639, Bias: 123.000000, T: 134400, Avg. loss: 113143.845446\n",
            "Total training time: 0.25 seconds.\n",
            "-- Epoch 5\n",
            "Norm: 68023.43, NNZs: 640, Bias: 158.000000, T: 168000, Avg. loss: 114112.914911\n",
            "Total training time: 0.32 seconds.\n",
            "-- Epoch 6\n",
            "Norm: 71561.46, NNZs: 641, Bias: 189.000000, T: 201600, Avg. loss: 111591.199643\n",
            "Total training time: 0.38 seconds.\n",
            "-- Epoch 7\n",
            "Norm: 75066.78, NNZs: 641, Bias: 217.000000, T: 235200, Avg. loss: 110774.543542\n",
            "Total training time: 0.44 seconds.\n",
            "-- Epoch 8\n",
            "Norm: 77962.25, NNZs: 641, Bias: 250.000000, T: 268800, Avg. loss: 109275.440357\n",
            "Total training time: 0.50 seconds.\n",
            "-- Epoch 9\n",
            "Norm: 81947.15, NNZs: 641, Bias: 277.000000, T: 302400, Avg. loss: 108801.517976\n",
            "Total training time: 0.56 seconds.\n",
            "-- Epoch 10\n",
            "Norm: 84724.58, NNZs: 641, Bias: 314.000000, T: 336000, Avg. loss: 110661.619821\n",
            "Total training time: 0.62 seconds.\n",
            "-- Epoch 11\n",
            "Norm: 87225.59, NNZs: 641, Bias: 354.000000, T: 369600, Avg. loss: 108303.698780\n",
            "Total training time: 0.68 seconds.\n",
            "-- Epoch 12\n",
            "Norm: 89073.29, NNZs: 641, Bias: 389.000000, T: 403200, Avg. loss: 106832.891131\n",
            "Total training time: 0.75 seconds.\n",
            "-- Epoch 13\n",
            "Norm: 91419.32, NNZs: 641, Bias: 416.000000, T: 436800, Avg. loss: 110941.566429\n",
            "Total training time: 0.82 seconds.\n",
            "-- Epoch 14\n",
            "Norm: 93994.71, NNZs: 641, Bias: 456.000000, T: 470400, Avg. loss: 113329.592262\n",
            "Total training time: 0.88 seconds.\n",
            "-- Epoch 15\n",
            "Norm: 95985.17, NNZs: 641, Bias: 495.000000, T: 504000, Avg. loss: 109959.708244\n",
            "Total training time: 0.94 seconds.\n",
            "-- Epoch 16\n",
            "Norm: 97348.95, NNZs: 642, Bias: 524.000000, T: 537600, Avg. loss: 110222.617411\n",
            "Total training time: 1.00 seconds.\n",
            "-- Epoch 17\n",
            "Norm: 99584.26, NNZs: 641, Bias: 554.000000, T: 571200, Avg. loss: 106344.273869\n",
            "Total training time: 1.07 seconds.\n",
            "-- Epoch 18\n",
            "Norm: 101776.71, NNZs: 642, Bias: 584.000000, T: 604800, Avg. loss: 106643.082440\n",
            "Total training time: 1.13 seconds.\n",
            "-- Epoch 19\n",
            "Norm: 103208.53, NNZs: 642, Bias: 613.000000, T: 638400, Avg. loss: 108343.745804\n",
            "Total training time: 1.19 seconds.\n",
            "-- Epoch 20\n",
            "Norm: 105713.85, NNZs: 642, Bias: 639.000000, T: 672000, Avg. loss: 110997.620417\n",
            "Total training time: 1.25 seconds.\n",
            "-- Epoch 21\n",
            "Norm: 107202.41, NNZs: 642, Bias: 672.000000, T: 705600, Avg. loss: 106189.241994\n",
            "Total training time: 1.32 seconds.\n",
            "-- Epoch 22\n",
            "Norm: 109639.44, NNZs: 642, Bias: 698.000000, T: 739200, Avg. loss: 105599.439702\n",
            "Total training time: 1.38 seconds.\n",
            "-- Epoch 23\n",
            "Norm: 110812.71, NNZs: 642, Bias: 732.000000, T: 772800, Avg. loss: 107623.893661\n",
            "Total training time: 1.44 seconds.\n",
            "-- Epoch 24\n",
            "Norm: 112581.36, NNZs: 642, Bias: 765.000000, T: 806400, Avg. loss: 107060.136429\n",
            "Total training time: 1.50 seconds.\n",
            "-- Epoch 25\n",
            "Norm: 114309.41, NNZs: 642, Bias: 798.000000, T: 840000, Avg. loss: 107680.858452\n",
            "Total training time: 1.57 seconds.\n",
            "-- Epoch 26\n",
            "Norm: 116237.10, NNZs: 642, Bias: 826.000000, T: 873600, Avg. loss: 108127.371905\n",
            "Total training time: 1.63 seconds.\n",
            "-- Epoch 27\n",
            "Norm: 117243.89, NNZs: 642, Bias: 861.000000, T: 907200, Avg. loss: 107025.967768\n",
            "Total training time: 1.70 seconds.\n",
            "Convergence after 27 epochs took 1.70 seconds\n",
            "-- Epoch 1\n",
            "Norm: 32486.64, NNZs: 577, Bias: -105.000000, T: 33600, Avg. loss: 61757.694315\n",
            "Total training time: 0.06 seconds.\n",
            "-- Epoch 2\n",
            "Norm: 40534.54, NNZs: 584, Bias: -200.000000, T: 67200, Avg. loss: 56512.068690\n",
            "Total training time: 0.12 seconds.\n",
            "-- Epoch 3\n",
            "Norm: 44742.80, NNZs: 588, Bias: -287.000000, T: 100800, Avg. loss: 56831.399375\n",
            "Total training time: 0.18 seconds.\n",
            "-- Epoch 4\n",
            "Norm: 48306.09, NNZs: 589, Bias: -365.000000, T: 134400, Avg. loss: 57471.921488\n",
            "Total training time: 0.25 seconds.\n",
            "-- Epoch 5\n",
            "Norm: 51911.01, NNZs: 594, Bias: -437.000000, T: 168000, Avg. loss: 53519.729940\n",
            "Total training time: 0.31 seconds.\n",
            "-- Epoch 6\n",
            "Norm: 54449.70, NNZs: 594, Bias: -512.000000, T: 201600, Avg. loss: 56500.563304\n",
            "Total training time: 0.38 seconds.\n",
            "-- Epoch 7\n",
            "Norm: 56208.93, NNZs: 594, Bias: -591.000000, T: 235200, Avg. loss: 55719.122857\n",
            "Total training time: 0.44 seconds.\n",
            "-- Epoch 8\n",
            "Norm: 58646.84, NNZs: 595, Bias: -667.000000, T: 268800, Avg. loss: 52715.723690\n",
            "Total training time: 0.50 seconds.\n",
            "-- Epoch 9\n",
            "Norm: 61872.61, NNZs: 600, Bias: -742.000000, T: 302400, Avg. loss: 54451.783214\n",
            "Total training time: 0.56 seconds.\n",
            "-- Epoch 10\n",
            "Norm: 64386.40, NNZs: 600, Bias: -819.000000, T: 336000, Avg. loss: 54228.641726\n",
            "Total training time: 0.61 seconds.\n",
            "-- Epoch 11\n",
            "Norm: 66294.61, NNZs: 600, Bias: -896.000000, T: 369600, Avg. loss: 52856.449167\n",
            "Total training time: 0.66 seconds.\n",
            "-- Epoch 12\n",
            "Norm: 67818.78, NNZs: 600, Bias: -967.000000, T: 403200, Avg. loss: 52751.668839\n",
            "Total training time: 0.71 seconds.\n",
            "-- Epoch 13\n",
            "Norm: 69092.91, NNZs: 600, Bias: -1041.000000, T: 436800, Avg. loss: 51681.258036\n",
            "Total training time: 0.77 seconds.\n",
            "-- Epoch 14\n",
            "Norm: 71238.41, NNZs: 600, Bias: -1116.000000, T: 470400, Avg. loss: 51981.144881\n",
            "Total training time: 0.82 seconds.\n",
            "-- Epoch 15\n",
            "Norm: 72874.40, NNZs: 600, Bias: -1189.000000, T: 504000, Avg. loss: 50819.850149\n",
            "Total training time: 0.88 seconds.\n",
            "-- Epoch 16\n",
            "Norm: 74450.89, NNZs: 600, Bias: -1263.000000, T: 537600, Avg. loss: 53628.265268\n",
            "Total training time: 0.93 seconds.\n",
            "-- Epoch 17\n",
            "Norm: 76487.74, NNZs: 601, Bias: -1337.000000, T: 571200, Avg. loss: 52789.735744\n",
            "Total training time: 0.98 seconds.\n",
            "-- Epoch 18\n",
            "Norm: 77849.43, NNZs: 603, Bias: -1410.000000, T: 604800, Avg. loss: 52466.989940\n",
            "Total training time: 1.03 seconds.\n",
            "-- Epoch 19\n",
            "Norm: 79984.11, NNZs: 603, Bias: -1479.000000, T: 638400, Avg. loss: 53286.368958\n",
            "Total training time: 1.09 seconds.\n",
            "-- Epoch 20\n",
            "Norm: 80396.01, NNZs: 603, Bias: -1550.000000, T: 672000, Avg. loss: 51882.202679\n",
            "Total training time: 1.14 seconds.\n",
            "Convergence after 20 epochs took 1.14 seconds\n",
            "-- Epoch 1\n",
            "Norm: 32589.46, NNZs: 583, Bias: -17.000000, T: 33600, Avg. loss: 62025.632560\n",
            "Total training time: 0.05 seconds.\n",
            "-- Epoch 2\n",
            "Norm: 37511.93, NNZs: 609, Bias: -29.000000, T: 67200, Avg. loss: 58115.097619\n",
            "Total training time: 0.11 seconds.\n",
            "-- Epoch 3\n",
            "Norm: 42262.38, NNZs: 613, Bias: -45.000000, T: 100800, Avg. loss: 57995.263839\n",
            "Total training time: 0.16 seconds.\n",
            "-- Epoch 4\n",
            "Norm: 46423.57, NNZs: 620, Bias: -57.000000, T: 134400, Avg. loss: 58623.844851\n",
            "Total training time: 0.21 seconds.\n",
            "-- Epoch 5\n",
            "Norm: 50025.21, NNZs: 622, Bias: -63.000000, T: 168000, Avg. loss: 53911.482560\n",
            "Total training time: 0.27 seconds.\n",
            "-- Epoch 6\n",
            "Norm: 53211.32, NNZs: 620, Bias: -77.000000, T: 201600, Avg. loss: 51937.196726\n",
            "Total training time: 0.32 seconds.\n",
            "-- Epoch 7\n",
            "Norm: 56199.23, NNZs: 624, Bias: -82.000000, T: 235200, Avg. loss: 54733.387946\n",
            "Total training time: 0.37 seconds.\n",
            "-- Epoch 8\n",
            "Norm: 58992.86, NNZs: 625, Bias: -103.000000, T: 268800, Avg. loss: 52753.839226\n",
            "Total training time: 0.42 seconds.\n",
            "-- Epoch 9\n",
            "Norm: 61704.82, NNZs: 627, Bias: -111.000000, T: 302400, Avg. loss: 55863.080506\n",
            "Total training time: 0.48 seconds.\n",
            "-- Epoch 10\n",
            "Norm: 63877.60, NNZs: 632, Bias: -131.000000, T: 336000, Avg. loss: 54647.428988\n",
            "Total training time: 0.53 seconds.\n",
            "-- Epoch 11\n",
            "Norm: 66299.11, NNZs: 634, Bias: -148.000000, T: 369600, Avg. loss: 54471.431637\n",
            "Total training time: 0.58 seconds.\n",
            "Convergence after 11 epochs took 0.58 seconds\n",
            "-- Epoch 1\n",
            "Norm: 41758.03, NNZs: 625, Bias: -462.000000, T: 33600, Avg. loss: 233095.000774\n",
            "Total training time: 0.05 seconds.\n",
            "-- Epoch 2\n",
            "Norm: 50310.57, NNZs: 631, Bias: -882.000000, T: 67200, Avg. loss: 228599.348750\n",
            "Total training time: 0.11 seconds.\n",
            "-- Epoch 3\n",
            "Norm: 56368.42, NNZs: 641, Bias: -1299.000000, T: 100800, Avg. loss: 227184.443333\n",
            "Total training time: 0.16 seconds.\n",
            "-- Epoch 4\n",
            "Norm: 60403.37, NNZs: 645, Bias: -1688.000000, T: 134400, Avg. loss: 229155.082083\n",
            "Total training time: 0.22 seconds.\n",
            "-- Epoch 5\n",
            "Norm: 63372.61, NNZs: 649, Bias: -2067.000000, T: 168000, Avg. loss: 221451.627738\n",
            "Total training time: 0.27 seconds.\n",
            "-- Epoch 6\n",
            "Norm: 67369.73, NNZs: 650, Bias: -2466.000000, T: 201600, Avg. loss: 225979.830327\n",
            "Total training time: 0.33 seconds.\n",
            "-- Epoch 7\n",
            "Norm: 70718.75, NNZs: 650, Bias: -2852.000000, T: 235200, Avg. loss: 225628.723304\n",
            "Total training time: 0.39 seconds.\n",
            "-- Epoch 8\n",
            "Norm: 71812.83, NNZs: 651, Bias: -3252.000000, T: 268800, Avg. loss: 226431.173661\n",
            "Total training time: 0.44 seconds.\n",
            "-- Epoch 9\n",
            "Norm: 73696.43, NNZs: 653, Bias: -3628.000000, T: 302400, Avg. loss: 223407.070655\n",
            "Total training time: 0.49 seconds.\n",
            "-- Epoch 10\n",
            "Norm: 76871.33, NNZs: 653, Bias: -3996.000000, T: 336000, Avg. loss: 223646.291935\n",
            "Total training time: 0.55 seconds.\n",
            "Convergence after 10 epochs took 0.55 seconds\n",
            "-- Epoch 1\n",
            "Norm: 36290.84, NNZs: 625, Bias: -187.000000, T: 33600, Avg. loss: 159959.056161\n",
            "Total training time: 0.05 seconds.\n",
            "-- Epoch 2\n",
            "Norm: 44920.30, NNZs: 641, Bias: -378.000000, T: 67200, Avg. loss: 154155.718125\n",
            "Total training time: 0.12 seconds.\n",
            "-- Epoch 3\n",
            "Norm: 51342.61, NNZs: 651, Bias: -555.000000, T: 100800, Avg. loss: 150645.519911\n",
            "Total training time: 0.17 seconds.\n",
            "-- Epoch 4\n",
            "Norm: 56524.62, NNZs: 652, Bias: -729.000000, T: 134400, Avg. loss: 146213.910208\n",
            "Total training time: 0.22 seconds.\n",
            "-- Epoch 5\n",
            "Norm: 59759.74, NNZs: 652, Bias: -916.000000, T: 168000, Avg. loss: 150237.405774\n",
            "Total training time: 0.28 seconds.\n",
            "-- Epoch 6\n",
            "Norm: 63784.97, NNZs: 652, Bias: -1087.000000, T: 201600, Avg. loss: 147086.445833\n",
            "Total training time: 0.33 seconds.\n",
            "-- Epoch 7\n",
            "Norm: 65860.29, NNZs: 653, Bias: -1268.000000, T: 235200, Avg. loss: 149149.701250\n",
            "Total training time: 0.38 seconds.\n",
            "-- Epoch 8\n",
            "Norm: 67339.26, NNZs: 656, Bias: -1434.000000, T: 268800, Avg. loss: 150210.671667\n",
            "Total training time: 0.44 seconds.\n",
            "-- Epoch 9\n",
            "Norm: 69460.15, NNZs: 656, Bias: -1616.000000, T: 302400, Avg. loss: 147811.250506\n",
            "Total training time: 0.50 seconds.\n",
            "Convergence after 9 epochs took 0.50 seconds\n"
          ]
        },
        {
          "output_type": "stream",
          "name": "stderr",
          "text": [
            "[Parallel(n_jobs=1)]: Done  10 out of  10 | elapsed:    9.6s finished\n"
          ]
        }
      ],
      "source": [
        "per = Perceptron(verbose = 2)\n",
        "per.fit(x_train, y_train)\n",
        "per_preds_train = per.predict(x_train)\n",
        "per_preds_test = per.predict(x_test)"
      ]
    },
    {
      "cell_type": "code",
      "execution_count": null,
      "metadata": {
        "colab": {
          "base_uri": "https://localhost:8080/"
        },
        "id": "kx7KmwLDcV5M",
        "outputId": "570deb66-8fc1-4873-e3dd-ad0ba5a8994f"
      },
      "outputs": [
        {
          "output_type": "stream",
          "name": "stdout",
          "text": [
            "27\n"
          ]
        }
      ],
      "source": [
        "print(per.n_iter_)"
      ]
    },
    {
      "cell_type": "code",
      "execution_count": null,
      "metadata": {
        "id": "lTqDqPT_ceyN"
      },
      "outputs": [],
      "source": [
        "weights = per.coef_"
      ]
    },
    {
      "cell_type": "code",
      "execution_count": null,
      "metadata": {
        "colab": {
          "base_uri": "https://localhost:8080/"
        },
        "id": "YyvA0Wh9cuBJ",
        "outputId": "acedac06-10b2-42d7-f63c-3105c2d610b5"
      },
      "outputs": [
        {
          "output_type": "execute_result",
          "data": {
            "text/plain": [
              "array([-1061.,  -213., -1456., -1105.,  -876.,   861., -1550.,  -148.,\n",
              "       -3996., -1616.])"
            ]
          },
          "metadata": {},
          "execution_count": 14
        }
      ],
      "source": [
        "per.intercept_"
      ]
    },
    {
      "cell_type": "code",
      "execution_count": null,
      "metadata": {
        "colab": {
          "base_uri": "https://localhost:8080/"
        },
        "id": "PX5YK4krdRzU",
        "outputId": "816b802f-057a-41ff-c71b-8c4db0796cb7"
      },
      "outputs": [
        {
          "output_type": "execute_result",
          "data": {
            "text/plain": [
              "<sklearn.linear_model._sgd_fast.Hinge at 0x7f77ae0ab870>"
            ]
          },
          "metadata": {},
          "execution_count": 15
        }
      ],
      "source": [
        "per.loss_function_"
      ]
    },
    {
      "cell_type": "code",
      "execution_count": null,
      "metadata": {
        "id": "cmeEpEtEeXe2"
      },
      "outputs": [],
      "source": [
        "def model_eval(actual, predicted):\n",
        "  conf_matrix = confusion_matrix(actual,predicted)\n",
        "  clas_rep = classification_report(actual, predicted)\n",
        "  acc_score = accuracy_score(actual, predicted)\n",
        "  print(\"The model accuracy is: \", acc_score)\n",
        "  print(conf_matrix)\n",
        "  print(clas_rep)"
      ]
    },
    {
      "cell_type": "code",
      "execution_count": null,
      "metadata": {
        "colab": {
          "base_uri": "https://localhost:8080/"
        },
        "id": "Lu56HdSNerDV",
        "outputId": "ad6fc9aa-e95b-48d5-f735-f445375f4ae5"
      },
      "outputs": [
        {
          "output_type": "stream",
          "name": "stdout",
          "text": [
            "The model accuracy is:  0.8858333333333334\n",
            "[[3197    0   14    5    2   31   70    1   25    2]\n",
            " [   1 3556   20    9    2    5    4    4  130    4]\n",
            " [  18    9 2961   70    9   24   34   16  193    5]\n",
            " [  19   10   83 3022    1  142   27   16  152   21]\n",
            " [   5    8  123   17 2912   19   38   17  103   34]\n",
            " [  27    3   16   78   19 2525   96    7  194   30]\n",
            " [  13    5   28    3    5   45 3122    0   46    0]\n",
            " [   7    6  134   17    7    7    6 3269   40   48]\n",
            " [  18   20   38   53    8   92   17   10 2978   12]\n",
            " [  19   15  120   63  188  119    8  298  309 2222]]\n",
            "              precision    recall  f1-score   support\n",
            "\n",
            "           0       0.96      0.96      0.96      3347\n",
            "           1       0.98      0.95      0.97      3735\n",
            "           2       0.84      0.89      0.86      3339\n",
            "           3       0.91      0.87      0.88      3493\n",
            "           4       0.92      0.89      0.91      3276\n",
            "           5       0.84      0.84      0.84      2995\n",
            "           6       0.91      0.96      0.93      3267\n",
            "           7       0.90      0.92      0.91      3541\n",
            "           8       0.71      0.92      0.80      3246\n",
            "           9       0.93      0.66      0.77      3361\n",
            "\n",
            "    accuracy                           0.89     33600\n",
            "   macro avg       0.89      0.88      0.88     33600\n",
            "weighted avg       0.89      0.89      0.89     33600\n",
            "\n"
          ]
        }
      ],
      "source": [
        "model_eval(y_train,per_preds_train )"
      ]
    },
    {
      "cell_type": "code",
      "execution_count": null,
      "metadata": {
        "colab": {
          "base_uri": "https://localhost:8080/"
        },
        "id": "0P3-MA3uexdl",
        "outputId": "b0212411-70de-4339-d8c5-cacbf39f9152"
      },
      "outputs": [
        {
          "output_type": "stream",
          "name": "stdout",
          "text": [
            "The model accuracy is:  0.8663095238095239\n",
            "[[741   1   4   0   0  10  22   0   7   0]\n",
            " [  0 895   8   6   1   3   2   0  34   0]\n",
            " [  4   3 710  28   2   9  18   4  59   1]\n",
            " [  6   2  23 742   2  38   4   5  28   8]\n",
            " [  5   6  33   2 689   2  12   6  28  13]\n",
            " [ 12   5   4  38   3 654  21   1  58   4]\n",
            " [  3   1  12   0   0  18 823   1  12   0]\n",
            " [  4   5  32   1   2   6   0 781  15  14]\n",
            " [  6  11  15   8   2  25  10   5 732   3]\n",
            " [  5   2  37  14  62  30   0  85  82 510]]\n",
            "              precision    recall  f1-score   support\n",
            "\n",
            "           0       0.94      0.94      0.94       785\n",
            "           1       0.96      0.94      0.95       949\n",
            "           2       0.81      0.85      0.83       838\n",
            "           3       0.88      0.86      0.87       858\n",
            "           4       0.90      0.87      0.88       796\n",
            "           5       0.82      0.82      0.82       800\n",
            "           6       0.90      0.95      0.92       870\n",
            "           7       0.88      0.91      0.89       860\n",
            "           8       0.69      0.90      0.78       817\n",
            "           9       0.92      0.62      0.74       827\n",
            "\n",
            "    accuracy                           0.87      8400\n",
            "   macro avg       0.87      0.86      0.86      8400\n",
            "weighted avg       0.87      0.87      0.87      8400\n",
            "\n"
          ]
        }
      ],
      "source": [
        "model_eval(y_test, per_preds_test)"
      ]
    },
    {
      "cell_type": "markdown",
      "metadata": {
        "id": "96-IV24lhYyf"
      },
      "source": [
        "Multi Layer Perceptron"
      ]
    },
    {
      "cell_type": "code",
      "execution_count": null,
      "metadata": {
        "id": "y6MNBPD1FXmS"
      },
      "outputs": [],
      "source": [
        "#import cv2"
      ]
    },
    {
      "cell_type": "code",
      "execution_count": null,
      "metadata": {
        "id": "b7ko05s0FZ9r"
      },
      "outputs": [],
      "source": [
        "#img = cv2.imread('/content/download (1).png')"
      ]
    },
    {
      "cell_type": "code",
      "execution_count": null,
      "metadata": {
        "id": "jBwQ_UVhFf3j"
      },
      "outputs": [],
      "source": [
        "#img.shape"
      ]
    },
    {
      "cell_type": "code",
      "execution_count": null,
      "metadata": {
        "id": "oIe5MmEPFrlb"
      },
      "outputs": [],
      "source": [
        "#type(img)"
      ]
    },
    {
      "cell_type": "code",
      "execution_count": null,
      "metadata": {
        "id": "sx18icwdhdoL"
      },
      "outputs": [],
      "source": [
        "mlp = MLPClassifier(hidden_layer_sizes = (8,8,8), max_iter = 250, verbose = True)"
      ]
    },
    {
      "cell_type": "code",
      "execution_count": null,
      "metadata": {
        "colab": {
          "base_uri": "https://localhost:8080/",
          "height": 1000
        },
        "id": "PdHLT4ixGR1_",
        "outputId": "8f884f55-9b49-4df2-eb36-d2068c3ab46d"
      },
      "outputs": [
        {
          "output_type": "stream",
          "name": "stdout",
          "text": [
            "Iteration 1, loss = 2.47781593\n",
            "Iteration 2, loss = 2.09713023\n",
            "Iteration 3, loss = 2.01119698\n",
            "Iteration 4, loss = 1.92385931\n",
            "Iteration 5, loss = 1.85755416\n",
            "Iteration 6, loss = 1.79600733\n",
            "Iteration 7, loss = 1.74811088\n",
            "Iteration 8, loss = 1.70941196\n",
            "Iteration 9, loss = 1.53486939\n",
            "Iteration 10, loss = 1.34871688\n",
            "Iteration 11, loss = 1.23477733\n",
            "Iteration 12, loss = 1.14085362\n",
            "Iteration 13, loss = 1.05994152\n",
            "Iteration 14, loss = 0.99649990\n",
            "Iteration 15, loss = 0.95301947\n",
            "Iteration 16, loss = 0.91091880\n",
            "Iteration 17, loss = 0.83984623\n",
            "Iteration 18, loss = 0.79017925\n",
            "Iteration 19, loss = 0.76103488\n",
            "Iteration 20, loss = 0.73322271\n",
            "Iteration 21, loss = 0.70996635\n",
            "Iteration 22, loss = 0.68950217\n",
            "Iteration 23, loss = 0.66569379\n",
            "Iteration 24, loss = 0.64867953\n",
            "Iteration 25, loss = 0.62977093\n",
            "Iteration 26, loss = 0.61071272\n",
            "Iteration 27, loss = 0.59723588\n",
            "Iteration 28, loss = 0.58716878\n",
            "Iteration 29, loss = 0.57450336\n",
            "Iteration 30, loss = 0.55936122\n",
            "Iteration 31, loss = 0.54897188\n",
            "Iteration 32, loss = 0.53932694\n",
            "Iteration 33, loss = 0.52808692\n",
            "Iteration 34, loss = 0.52269489\n",
            "Iteration 35, loss = 0.51524908\n",
            "Iteration 36, loss = 0.51220235\n",
            "Iteration 37, loss = 0.50429823\n",
            "Iteration 38, loss = 0.49659423\n",
            "Iteration 39, loss = 0.48841751\n",
            "Iteration 40, loss = 0.48520580\n",
            "Iteration 41, loss = 0.48169798\n",
            "Iteration 42, loss = 0.47727324\n",
            "Iteration 43, loss = 0.46899311\n",
            "Iteration 44, loss = 0.46729821\n",
            "Iteration 45, loss = 0.46276508\n",
            "Iteration 46, loss = 0.45679545\n",
            "Iteration 47, loss = 0.45263589\n",
            "Iteration 48, loss = 0.44926244\n",
            "Iteration 49, loss = 0.44894689\n",
            "Iteration 50, loss = 0.44481241\n",
            "Iteration 51, loss = 0.44289024\n",
            "Iteration 52, loss = 0.43674931\n",
            "Iteration 53, loss = 0.43758848\n",
            "Iteration 54, loss = 0.43360204\n",
            "Iteration 55, loss = 0.42714651\n",
            "Iteration 56, loss = 0.42691269\n",
            "Iteration 57, loss = 0.42309552\n",
            "Iteration 58, loss = 0.42030757\n",
            "Iteration 59, loss = 0.41949627\n",
            "Iteration 60, loss = 0.41513010\n",
            "Iteration 61, loss = 0.41764074\n",
            "Iteration 62, loss = 0.40918686\n",
            "Iteration 63, loss = 0.41756736\n",
            "Iteration 64, loss = 0.41006562\n",
            "Iteration 65, loss = 0.40600529\n",
            "Iteration 66, loss = 0.40588480\n",
            "Iteration 67, loss = 0.40152739\n",
            "Iteration 68, loss = 0.40450162\n",
            "Iteration 69, loss = 0.40512887\n",
            "Iteration 70, loss = 0.39798309\n",
            "Iteration 71, loss = 0.39712433\n",
            "Iteration 72, loss = 0.39435768\n",
            "Iteration 73, loss = 0.39709143\n",
            "Iteration 74, loss = 0.39509770\n",
            "Iteration 75, loss = 0.39780798\n",
            "Iteration 76, loss = 0.39299158\n",
            "Iteration 77, loss = 0.38737929\n",
            "Iteration 78, loss = 0.39139542\n",
            "Iteration 79, loss = 0.38821812\n",
            "Iteration 80, loss = 0.39458194\n",
            "Iteration 81, loss = 0.38906276\n",
            "Iteration 82, loss = 0.38429532\n",
            "Iteration 83, loss = 0.38594747\n",
            "Iteration 84, loss = 0.38774537\n",
            "Iteration 85, loss = 0.38364683\n",
            "Iteration 86, loss = 0.38340009\n",
            "Iteration 87, loss = 0.38201692\n",
            "Iteration 88, loss = 0.38183090\n",
            "Iteration 89, loss = 0.38290182\n",
            "Iteration 90, loss = 0.38320328\n",
            "Iteration 91, loss = 0.38057513\n",
            "Iteration 92, loss = 0.38068834\n",
            "Iteration 93, loss = 0.38083006\n",
            "Iteration 94, loss = 0.37576548\n",
            "Iteration 95, loss = 0.38360866\n",
            "Iteration 96, loss = 0.37694436\n",
            "Iteration 97, loss = 0.37461711\n",
            "Iteration 98, loss = 0.37374207\n",
            "Iteration 99, loss = 0.37368582\n",
            "Iteration 100, loss = 0.37601079\n",
            "Iteration 101, loss = 0.37734133\n",
            "Iteration 102, loss = 0.37112423\n",
            "Iteration 103, loss = 0.36919586\n",
            "Iteration 104, loss = 0.37313318\n",
            "Iteration 105, loss = 0.37040898\n",
            "Iteration 106, loss = 0.36853690\n",
            "Iteration 107, loss = 0.36875807\n",
            "Iteration 108, loss = 0.36683281\n",
            "Iteration 109, loss = 0.36584289\n",
            "Iteration 110, loss = 0.37005351\n",
            "Iteration 111, loss = 0.36440127\n",
            "Iteration 112, loss = 0.36509786\n",
            "Iteration 113, loss = 0.36188749\n",
            "Iteration 114, loss = 0.36614341\n",
            "Iteration 115, loss = 0.36720409\n",
            "Iteration 116, loss = 0.36473015\n",
            "Iteration 117, loss = 0.36329233\n",
            "Iteration 118, loss = 0.36223234\n",
            "Iteration 119, loss = 0.35843141\n",
            "Iteration 120, loss = 0.36341449\n",
            "Iteration 121, loss = 0.35672482\n",
            "Iteration 122, loss = 0.36270813\n",
            "Iteration 123, loss = 0.35978266\n",
            "Iteration 124, loss = 0.36174471\n",
            "Iteration 125, loss = 0.36424065\n",
            "Iteration 126, loss = 0.35722021\n",
            "Iteration 127, loss = 0.35511699\n",
            "Iteration 128, loss = 0.35432804\n",
            "Iteration 129, loss = 0.35416600\n",
            "Iteration 130, loss = 0.35025428\n",
            "Iteration 131, loss = 0.34521622\n",
            "Iteration 132, loss = 0.34271847\n",
            "Iteration 133, loss = 0.34345098\n",
            "Iteration 134, loss = 0.33991132\n",
            "Iteration 135, loss = 0.33648761\n",
            "Iteration 136, loss = 0.33544259\n",
            "Iteration 137, loss = 0.33042937\n",
            "Iteration 138, loss = 0.33166476\n",
            "Iteration 139, loss = 0.33113439\n",
            "Iteration 140, loss = 0.33029458\n",
            "Iteration 141, loss = 0.32819903\n",
            "Iteration 142, loss = 0.32785726\n",
            "Iteration 143, loss = 0.32548650\n",
            "Iteration 144, loss = 0.32474795\n",
            "Iteration 145, loss = 0.32439388\n",
            "Iteration 146, loss = 0.32590579\n",
            "Iteration 147, loss = 0.31845741\n",
            "Iteration 148, loss = 0.32079422\n",
            "Iteration 149, loss = 0.32064188\n",
            "Iteration 150, loss = 0.31949643\n",
            "Iteration 151, loss = 0.31623094\n",
            "Iteration 152, loss = 0.31877345\n",
            "Iteration 153, loss = 0.31508021\n",
            "Iteration 154, loss = 0.31603901\n",
            "Iteration 155, loss = 0.31824268\n",
            "Iteration 156, loss = 0.31290103\n",
            "Iteration 157, loss = 0.31558863\n",
            "Iteration 158, loss = 0.31241921\n",
            "Iteration 159, loss = 0.31138704\n",
            "Iteration 160, loss = 0.30874155\n",
            "Iteration 161, loss = 0.30890560\n",
            "Iteration 162, loss = 0.30728808\n",
            "Iteration 163, loss = 0.30706970\n",
            "Iteration 164, loss = 0.30764323\n",
            "Iteration 165, loss = 0.30331857\n",
            "Iteration 166, loss = 0.30665081\n",
            "Iteration 167, loss = 0.30991975\n",
            "Iteration 168, loss = 0.30630496\n",
            "Iteration 169, loss = 0.30740742\n",
            "Iteration 170, loss = 0.30130860\n",
            "Iteration 171, loss = 0.30357583\n",
            "Iteration 172, loss = 0.29851329\n",
            "Iteration 173, loss = 0.29817682\n",
            "Iteration 174, loss = 0.30005580\n",
            "Iteration 175, loss = 0.30052035\n",
            "Iteration 176, loss = 0.29653240\n",
            "Iteration 177, loss = 0.30117198\n",
            "Iteration 178, loss = 0.29650298\n",
            "Iteration 179, loss = 0.29865955\n",
            "Iteration 180, loss = 0.29527781\n",
            "Iteration 181, loss = 0.29275406\n",
            "Iteration 182, loss = 0.29368100\n",
            "Iteration 183, loss = 0.29703816\n",
            "Iteration 184, loss = 0.29018094\n",
            "Iteration 185, loss = 0.29345626\n",
            "Iteration 186, loss = 0.28880339\n",
            "Iteration 187, loss = 0.29312912\n",
            "Iteration 188, loss = 0.29057641\n",
            "Iteration 189, loss = 0.28956100\n",
            "Iteration 190, loss = 0.28905723\n",
            "Iteration 191, loss = 0.28744483\n",
            "Iteration 192, loss = 0.29261170\n",
            "Iteration 193, loss = 0.28716571\n",
            "Iteration 194, loss = 0.28668279\n",
            "Iteration 195, loss = 0.28553616\n",
            "Iteration 196, loss = 0.28460404\n",
            "Iteration 197, loss = 0.28392800\n",
            "Iteration 198, loss = 0.28022479\n",
            "Iteration 199, loss = 0.28245292\n",
            "Iteration 200, loss = 0.28282327\n",
            "Iteration 201, loss = 0.28279629\n",
            "Iteration 202, loss = 0.27829707\n",
            "Iteration 203, loss = 0.28189045\n",
            "Iteration 204, loss = 0.28036510\n",
            "Iteration 205, loss = 0.28182961\n",
            "Iteration 206, loss = 0.27945576\n",
            "Iteration 207, loss = 0.28070780\n",
            "Iteration 208, loss = 0.27630972\n",
            "Iteration 209, loss = 0.27280211\n",
            "Iteration 210, loss = 0.27693700\n",
            "Iteration 211, loss = 0.27883490\n",
            "Iteration 212, loss = 0.27434424\n",
            "Iteration 213, loss = 0.27682678\n",
            "Iteration 214, loss = 0.27725427\n",
            "Iteration 215, loss = 0.27344979\n",
            "Iteration 216, loss = 0.27461805\n",
            "Iteration 217, loss = 0.27158761\n",
            "Iteration 218, loss = 0.27265200\n",
            "Iteration 219, loss = 0.27163363\n",
            "Iteration 220, loss = 0.27335107\n",
            "Iteration 221, loss = 0.26881452\n",
            "Iteration 222, loss = 0.27068444\n",
            "Iteration 223, loss = 0.26970297\n",
            "Iteration 224, loss = 0.27098439\n",
            "Iteration 225, loss = 0.27582203\n",
            "Iteration 226, loss = 0.26843188\n",
            "Iteration 227, loss = 0.26741905\n",
            "Iteration 228, loss = 0.26756000\n",
            "Iteration 229, loss = 0.27083264\n",
            "Iteration 230, loss = 0.27143315\n",
            "Iteration 231, loss = 0.26488894\n",
            "Iteration 232, loss = 0.26793076\n",
            "Iteration 233, loss = 0.26928444\n",
            "Iteration 234, loss = 0.26639442\n",
            "Iteration 235, loss = 0.26761286\n",
            "Iteration 236, loss = 0.26815725\n",
            "Iteration 237, loss = 0.26681604\n",
            "Iteration 238, loss = 0.26414256\n",
            "Iteration 239, loss = 0.26503510\n",
            "Iteration 240, loss = 0.26508527\n",
            "Iteration 241, loss = 0.26707569\n",
            "Iteration 242, loss = 0.26618706\n",
            "Iteration 243, loss = 0.26551208\n",
            "Iteration 244, loss = 0.26850423\n",
            "Iteration 245, loss = 0.26435055\n",
            "Iteration 246, loss = 0.26456878\n",
            "Iteration 247, loss = 0.26066321\n",
            "Iteration 248, loss = 0.26233474\n",
            "Iteration 249, loss = 0.26146450\n",
            "Iteration 250, loss = 0.26210445\n"
          ]
        },
        {
          "output_type": "stream",
          "name": "stderr",
          "text": [
            "/usr/local/lib/python3.10/dist-packages/sklearn/neural_network/_multilayer_perceptron.py:686: ConvergenceWarning: Stochastic Optimizer: Maximum iterations (250) reached and the optimization hasn't converged yet.\n",
            "  warnings.warn(\n"
          ]
        },
        {
          "output_type": "execute_result",
          "data": {
            "text/plain": [
              "MLPClassifier(hidden_layer_sizes=(8, 8, 8), max_iter=250, verbose=True)"
            ],
            "text/html": [
              "<style>#sk-container-id-1 {color: black;background-color: white;}#sk-container-id-1 pre{padding: 0;}#sk-container-id-1 div.sk-toggleable {background-color: white;}#sk-container-id-1 label.sk-toggleable__label {cursor: pointer;display: block;width: 100%;margin-bottom: 0;padding: 0.3em;box-sizing: border-box;text-align: center;}#sk-container-id-1 label.sk-toggleable__label-arrow:before {content: \"▸\";float: left;margin-right: 0.25em;color: #696969;}#sk-container-id-1 label.sk-toggleable__label-arrow:hover:before {color: black;}#sk-container-id-1 div.sk-estimator:hover label.sk-toggleable__label-arrow:before {color: black;}#sk-container-id-1 div.sk-toggleable__content {max-height: 0;max-width: 0;overflow: hidden;text-align: left;background-color: #f0f8ff;}#sk-container-id-1 div.sk-toggleable__content pre {margin: 0.2em;color: black;border-radius: 0.25em;background-color: #f0f8ff;}#sk-container-id-1 input.sk-toggleable__control:checked~div.sk-toggleable__content {max-height: 200px;max-width: 100%;overflow: auto;}#sk-container-id-1 input.sk-toggleable__control:checked~label.sk-toggleable__label-arrow:before {content: \"▾\";}#sk-container-id-1 div.sk-estimator input.sk-toggleable__control:checked~label.sk-toggleable__label {background-color: #d4ebff;}#sk-container-id-1 div.sk-label input.sk-toggleable__control:checked~label.sk-toggleable__label {background-color: #d4ebff;}#sk-container-id-1 input.sk-hidden--visually {border: 0;clip: rect(1px 1px 1px 1px);clip: rect(1px, 1px, 1px, 1px);height: 1px;margin: -1px;overflow: hidden;padding: 0;position: absolute;width: 1px;}#sk-container-id-1 div.sk-estimator {font-family: monospace;background-color: #f0f8ff;border: 1px dotted black;border-radius: 0.25em;box-sizing: border-box;margin-bottom: 0.5em;}#sk-container-id-1 div.sk-estimator:hover {background-color: #d4ebff;}#sk-container-id-1 div.sk-parallel-item::after {content: \"\";width: 100%;border-bottom: 1px solid gray;flex-grow: 1;}#sk-container-id-1 div.sk-label:hover label.sk-toggleable__label {background-color: #d4ebff;}#sk-container-id-1 div.sk-serial::before {content: \"\";position: absolute;border-left: 1px solid gray;box-sizing: border-box;top: 0;bottom: 0;left: 50%;z-index: 0;}#sk-container-id-1 div.sk-serial {display: flex;flex-direction: column;align-items: center;background-color: white;padding-right: 0.2em;padding-left: 0.2em;position: relative;}#sk-container-id-1 div.sk-item {position: relative;z-index: 1;}#sk-container-id-1 div.sk-parallel {display: flex;align-items: stretch;justify-content: center;background-color: white;position: relative;}#sk-container-id-1 div.sk-item::before, #sk-container-id-1 div.sk-parallel-item::before {content: \"\";position: absolute;border-left: 1px solid gray;box-sizing: border-box;top: 0;bottom: 0;left: 50%;z-index: -1;}#sk-container-id-1 div.sk-parallel-item {display: flex;flex-direction: column;z-index: 1;position: relative;background-color: white;}#sk-container-id-1 div.sk-parallel-item:first-child::after {align-self: flex-end;width: 50%;}#sk-container-id-1 div.sk-parallel-item:last-child::after {align-self: flex-start;width: 50%;}#sk-container-id-1 div.sk-parallel-item:only-child::after {width: 0;}#sk-container-id-1 div.sk-dashed-wrapped {border: 1px dashed gray;margin: 0 0.4em 0.5em 0.4em;box-sizing: border-box;padding-bottom: 0.4em;background-color: white;}#sk-container-id-1 div.sk-label label {font-family: monospace;font-weight: bold;display: inline-block;line-height: 1.2em;}#sk-container-id-1 div.sk-label-container {text-align: center;}#sk-container-id-1 div.sk-container {/* jupyter's `normalize.less` sets `[hidden] { display: none; }` but bootstrap.min.css set `[hidden] { display: none !important; }` so we also need the `!important` here to be able to override the default hidden behavior on the sphinx rendered scikit-learn.org. See: https://github.com/scikit-learn/scikit-learn/issues/21755 */display: inline-block !important;position: relative;}#sk-container-id-1 div.sk-text-repr-fallback {display: none;}</style><div id=\"sk-container-id-1\" class=\"sk-top-container\"><div class=\"sk-text-repr-fallback\"><pre>MLPClassifier(hidden_layer_sizes=(8, 8, 8), max_iter=250, verbose=True)</pre><b>In a Jupyter environment, please rerun this cell to show the HTML representation or trust the notebook. <br />On GitHub, the HTML representation is unable to render, please try loading this page with nbviewer.org.</b></div><div class=\"sk-container\" hidden><div class=\"sk-item\"><div class=\"sk-estimator sk-toggleable\"><input class=\"sk-toggleable__control sk-hidden--visually\" id=\"sk-estimator-id-1\" type=\"checkbox\" checked><label for=\"sk-estimator-id-1\" class=\"sk-toggleable__label sk-toggleable__label-arrow\">MLPClassifier</label><div class=\"sk-toggleable__content\"><pre>MLPClassifier(hidden_layer_sizes=(8, 8, 8), max_iter=250, verbose=True)</pre></div></div></div></div></div>"
            ]
          },
          "metadata": {},
          "execution_count": 24
        }
      ],
      "source": [
        "mlp.fit(x_train, y_train)"
      ]
    },
    {
      "cell_type": "code",
      "execution_count": null,
      "metadata": {
        "id": "iYYfg4-1IxtP"
      },
      "outputs": [],
      "source": [
        "preds_mlp_train = mlp.predict(x_train)\n",
        "preds_mlp_test = mlp.predict(x_test)"
      ]
    },
    {
      "cell_type": "code",
      "execution_count": null,
      "metadata": {
        "colab": {
          "base_uri": "https://localhost:8080/"
        },
        "id": "NjcYYbgLJDxI",
        "outputId": "e78998e5-499a-4c13-c659-b5abefeebafc"
      },
      "outputs": [
        {
          "output_type": "stream",
          "name": "stdout",
          "text": [
            "The model accuracy is:  0.9245833333333333\n",
            "[[3286    0    4    2    8    7   22    8   10    0]\n",
            " [   0 3678   12    7   10    0    1    4   20    3]\n",
            " [  33   28 3049   51   34   10   56   38   30   10]\n",
            " [   5    1   59 3036    8  156   24   42  137   25]\n",
            " [  59   17    4    9 3049    7   21    7    8   95]\n",
            " [  17    0    0  216   24 2496   64    7  147   24]\n",
            " [  70    4    3    7   21   31 3083    2   46    0]\n",
            " [   9    6   20   19   13    1    0 3375    6   92]\n",
            " [   4   47    8   33   24   87   35    5 2964   39]\n",
            " [  14    1    0    9  139   22    0   82   44 3050]]\n",
            "              precision    recall  f1-score   support\n",
            "\n",
            "           0       0.94      0.98      0.96      3347\n",
            "           1       0.97      0.98      0.98      3735\n",
            "           2       0.97      0.91      0.94      3339\n",
            "           3       0.90      0.87      0.88      3493\n",
            "           4       0.92      0.93      0.92      3276\n",
            "           5       0.89      0.83      0.86      2995\n",
            "           6       0.93      0.94      0.94      3267\n",
            "           7       0.95      0.95      0.95      3541\n",
            "           8       0.87      0.91      0.89      3246\n",
            "           9       0.91      0.91      0.91      3361\n",
            "\n",
            "    accuracy                           0.92     33600\n",
            "   macro avg       0.92      0.92      0.92     33600\n",
            "weighted avg       0.92      0.92      0.92     33600\n",
            "\n"
          ]
        }
      ],
      "source": [
        "model_eval(y_train, preds_mlp_train)"
      ]
    },
    {
      "cell_type": "code",
      "execution_count": null,
      "metadata": {
        "colab": {
          "base_uri": "https://localhost:8080/"
        },
        "id": "3cGm9L9VJIDn",
        "outputId": "a1e085d8-335b-46f2-c640-793bf17d12d6"
      },
      "outputs": [
        {
          "output_type": "stream",
          "name": "stdout",
          "text": [
            "The model accuracy is:  0.8814285714285715\n",
            "[[745   0   3   4   6   7  15   4   1   0]\n",
            " [  2 917   7   2   6   1   2   0  10   2]\n",
            " [ 10  14 728  15  16   5  18  16  14   2]\n",
            " [  5   2  24 697   4  54   7  21  32  12]\n",
            " [ 14   7   2   3 709   1   5   3   6  46]\n",
            " [ 10   3   4  69  10 623  20   2  50   9]\n",
            " [ 41   6   6  12   6  21 767   1  10   0]\n",
            " [  5   5   6   7  10   0   0 793   5  29]\n",
            " [  4  17   4   9  23  23   7   2 719   9]\n",
            " [  6   0   1   1  55   7   0  36  15 706]]\n",
            "              precision    recall  f1-score   support\n",
            "\n",
            "           0       0.88      0.95      0.92       785\n",
            "           1       0.94      0.97      0.96       949\n",
            "           2       0.93      0.87      0.90       838\n",
            "           3       0.85      0.81      0.83       858\n",
            "           4       0.84      0.89      0.86       796\n",
            "           5       0.84      0.78      0.81       800\n",
            "           6       0.91      0.88      0.90       870\n",
            "           7       0.90      0.92      0.91       860\n",
            "           8       0.83      0.88      0.86       817\n",
            "           9       0.87      0.85      0.86       827\n",
            "\n",
            "    accuracy                           0.88      8400\n",
            "   macro avg       0.88      0.88      0.88      8400\n",
            "weighted avg       0.88      0.88      0.88      8400\n",
            "\n"
          ]
        }
      ],
      "source": [
        "model_eval(y_test, preds_mlp_test)"
      ]
    },
    {
      "cell_type": "code",
      "execution_count": null,
      "metadata": {
        "colab": {
          "base_uri": "https://localhost:8080/"
        },
        "id": "7KhoMVBBLs6p",
        "outputId": "1c087d04-0647-4f2d-b00c-8db6d0b7769b"
      },
      "outputs": [
        {
          "output_type": "execute_result",
          "data": {
            "text/plain": [
              "[array([[-2.35521654e-315, -1.34550923e-317,  4.71186099e-315, ...,\n",
              "          5.24106033e-316,  3.24002083e-315,  2.65808987e-315],\n",
              "        [ 1.85803262e-315, -1.43158412e-315, -4.41316728e-315, ...,\n",
              "          1.18461132e-317,  1.92422635e-315, -1.69828022e-315],\n",
              "        [ 4.15614753e-315,  3.56161944e-317,  2.21289289e-315, ...,\n",
              "          1.98520112e-316, -1.37134952e-315,  2.70208378e-315],\n",
              "        ...,\n",
              "        [-1.98990589e-315,  8.95649836e-316, -2.79180818e-315, ...,\n",
              "          4.67480063e-315, -6.58636269e-316,  2.79408184e-316],\n",
              "        [-4.69469220e-315, -4.00614196e-315, -7.35194656e-316, ...,\n",
              "          6.05361082e-316,  9.38998514e-316, -1.42513732e-315],\n",
              "        [ 8.14168643e-316,  3.19944768e-315,  1.32331898e-315, ...,\n",
              "          5.70385270e-316, -1.20574543e-315, -5.96844264e-316]]),\n",
              " array([[ 9.48484659e-002,  2.15459289e-001, -1.61723513e-002,\n",
              "          6.04167944e-001, -7.82456971e-003,  2.21949961e-002,\n",
              "         -4.56158245e-002,  2.40644824e-001],\n",
              "        [ 9.61864514e-001,  3.11763406e-001,  1.42051170e-001,\n",
              "         -5.10355703e-001, -6.12886229e-001, -1.67819989e-001,\n",
              "         -2.34812792e-001, -7.93440870e-001],\n",
              "        [-1.51436589e-002,  6.29069899e-003, -3.55572378e-001,\n",
              "          2.10439949e-001,  1.93902328e-001,  5.54342619e-002,\n",
              "          2.33313812e-001,  1.28960833e-001],\n",
              "        [-6.32135402e-002, -2.50207093e-002, -1.30814277e-001,\n",
              "         -2.04969670e-001,  1.79444646e-001, -6.55971405e-002,\n",
              "         -3.87406363e-001, -3.77637869e-001],\n",
              "        [-4.96509044e-002,  3.29778609e-002, -2.58417091e-001,\n",
              "          2.13738969e-001, -1.26817791e-001,  5.72869102e-002,\n",
              "         -4.26714301e-001, -3.87617484e-001],\n",
              "        [ 9.02094306e-003, -1.04614946e-001, -9.84128352e-002,\n",
              "         -1.29213531e-001, -1.25094481e-001, -7.93405568e-002,\n",
              "          2.90370863e-001,  2.78546528e-001],\n",
              "        [ 1.64877536e-001,  1.21669345e-001, -1.78591602e-001,\n",
              "         -7.46706021e-002, -2.37342738e-002, -1.11671953e-001,\n",
              "         -5.31139680e-002, -7.73095630e-002],\n",
              "        [ 2.21919413e-002,  9.86855276e-003, -3.87015919e-316,\n",
              "          1.25295553e-011, -7.73014638e-003, -2.98719631e-019,\n",
              "         -1.45452870e-068,  2.65460717e-078]]),\n",
              " array([[-8.00190053e-002,  1.50186576e-001,  1.42041693e-001,\n",
              "          1.78456051e-001,  2.33556151e-315,  2.99752285e-002,\n",
              "         -1.81287286e-002,  1.23174003e-001],\n",
              "        [ 5.74039752e-001,  1.28204101e-001,  2.67952677e-001,\n",
              "         -3.90833587e-001,  2.76317966e-315,  4.48728902e-001,\n",
              "          3.55945909e-002,  4.01646887e-001],\n",
              "        [ 7.00544241e-001, -7.84984607e-002, -5.87126395e-001,\n",
              "          1.70764922e-001,  1.72751843e-315, -9.91036179e-001,\n",
              "          2.75760552e-005,  2.08669488e+000],\n",
              "        [-1.63894636e-002, -3.89517371e-002, -2.07378191e-001,\n",
              "          9.61776694e-002, -4.72558841e-315, -4.78732023e-002,\n",
              "         -2.74925062e-002,  2.02731929e-002],\n",
              "        [ 2.68187762e-002,  1.67259444e-001,  6.09135255e-002,\n",
              "         -1.50692851e-001,  5.65311878e-316, -6.62244599e-002,\n",
              "          1.57645397e-001,  5.64821926e-002],\n",
              "        [ 2.62730562e-001, -1.14266197e-001,  2.56497411e-001,\n",
              "          2.82251947e-004,  3.90070408e-315, -6.97067176e-002,\n",
              "         -9.53606747e-002,  3.14758330e-001],\n",
              "        [ 3.55338561e-003,  2.67271883e-001, -9.80310379e-002,\n",
              "         -4.47639010e-002, -1.32983201e-315, -6.96750149e-002,\n",
              "          9.72838021e-002,  1.22375135e-001],\n",
              "        [ 1.01671113e-001, -9.90205093e-002,  1.28854654e-001,\n",
              "          1.08829943e-001, -4.36202813e-315,  7.50234420e-003,\n",
              "         -6.45818884e-001,  2.05344364e-002]]),\n",
              " array([[-8.18317478e-002,  4.00506432e-002, -4.61838546e-002,\n",
              "          1.47017654e-001,  2.12906324e-001,  9.30471715e-002,\n",
              "         -5.85165514e-001,  3.99353379e-002,  2.83625004e-003,\n",
              "          5.79445763e-001],\n",
              "        [ 4.40232853e-001,  1.67193548e-001,  2.30640718e-001,\n",
              "         -7.02881570e-002, -4.75545823e-001, -7.22936184e-001,\n",
              "         -7.52510256e-001,  2.43856941e-001, -8.23539520e-002,\n",
              "          2.98153140e-002],\n",
              "        [-7.47855481e-001,  6.43390641e-003, -1.16833661e-001,\n",
              "         -9.05646893e-002,  3.55001908e-001, -1.03648409e-001,\n",
              "         -6.86404311e-002,  6.60964789e-002, -2.43422700e-001,\n",
              "         -5.60118690e-002],\n",
              "        [ 7.68971186e-002, -8.48005521e-002,  1.09172606e-002,\n",
              "         -2.65985055e-001,  1.00520923e-001, -5.09569152e-002,\n",
              "          1.45355850e-001, -9.80721993e-001,  3.11912698e-002,\n",
              "         -5.37500431e-002],\n",
              "        [-3.35298359e-315, -1.18495673e-315,  1.39248444e-315,\n",
              "          4.34401014e-316,  4.53547549e-316, -4.06619340e-315,\n",
              "          3.83487535e-315, -1.93701939e-315, -5.66830384e-316,\n",
              "          1.09550838e-315],\n",
              "        [ 7.80483224e-001, -9.15440821e-002, -1.66919208e-001,\n",
              "         -3.86657226e-001,  1.92117913e-001,  9.87684617e-002,\n",
              "          4.97242833e-001, -2.83117133e-001,  1.52618849e-001,\n",
              "         -2.91547119e-003],\n",
              "        [-4.83394041e-001, -4.35109305e-001, -2.04177796e-001,\n",
              "         -3.23165550e-002, -1.86700136e-001,  4.31916974e-001,\n",
              "          5.56962857e-001,  8.36050074e-002,  1.92464871e-002,\n",
              "          1.49605396e-001],\n",
              "        [-5.36381809e-001,  1.70770024e-001,  2.41341434e-001,\n",
              "          3.61203181e-001, -1.45390275e-001,  3.07583693e-001,\n",
              "          6.21497803e-001,  6.58988755e-002,  2.52093632e-001,\n",
              "         -4.09365783e-001]])]"
            ]
          },
          "metadata": {},
          "execution_count": 28
        }
      ],
      "source": [
        "mlp.coefs_"
      ]
    },
    {
      "cell_type": "code",
      "execution_count": null,
      "metadata": {
        "colab": {
          "base_uri": "https://localhost:8080/"
        },
        "id": "8ap_CV6SMI4f",
        "outputId": "23ed0df3-6d2a-4d5c-a1c0-ba3c71e13cf2"
      },
      "outputs": [
        {
          "output_type": "execute_result",
          "data": {
            "text/plain": [
              "[array([-0.50910788,  0.6432162 , -2.87459936,  1.71235715,  1.73653195,\n",
              "        -2.47248016,  2.69671751, -0.14371464]),\n",
              " array([ 1.54682057,  4.1334159 ,  3.11003935, -0.17812599,  1.87297483,\n",
              "         5.03963663, -1.70340328,  2.31438113]),\n",
              " array([ 0.76450244, -2.06757931,  0.21659908, -0.25173116, -0.46125843,\n",
              "        -1.13520791, -0.00228714, -0.12159144]),\n",
              " array([ 6.42294761, -1.9436568 ,  0.35696668, -1.0054644 ,  1.18114201,\n",
              "        -1.29223734,  0.06723858,  0.34664273, -1.40729866, -0.71933466])]"
            ]
          },
          "metadata": {},
          "execution_count": 29
        }
      ],
      "source": [
        "mlp.intercepts_"
      ]
    },
    {
      "cell_type": "markdown",
      "metadata": {
        "id": "-8pxQ0uQRQ7f"
      },
      "source": [
        "# Keras Implementation"
      ]
    },
    {
      "cell_type": "markdown",
      "metadata": {
        "id": "kKj9GMcWRedu"
      },
      "source": [
        "Approach to creating models in Keras\n",
        "\n",
        "1.   Initializing a model\n",
        "     1. Sequential Model (Sequence of Layers)\n",
        "     2. Functional Model (Multi modal, Transfer Learning)\n",
        "2.   Set up the layers\n",
        "     1. Dense Layers, Fully Connected Layers, MLP\n",
        "     2. Dropout (Avoids overfitting)\n",
        "3.   Compilation\n",
        "     1. Optimizer (SGD, ADAM)\n",
        "     2. Loss Function (Regression Loss Functions, Classification Loss Func)\n",
        "     3. Metrics (Accuracy)\n",
        "4.   Model Fit\n",
        "     1. X & Y (Train and Test)\n",
        "     2. Epochs (Number of iterations)\n",
        "     3. Batch_Size = 128, 256 - Batch of images\n",
        "\n"
      ]
    },
    {
      "cell_type": "code",
      "execution_count": null,
      "metadata": {
        "id": "GN4wgYaYT-3j"
      },
      "outputs": [],
      "source": [
        "model = Sequential()\n",
        "model.add(Dense(128, activation = 'relu', input_shape = (784,)))\n",
        "model.add(Dropout(0.3))\n",
        "model.add(Dense(128, activation = 'relu'))\n",
        "model.add(Dropout(0.4))\n",
        "model.add(Dense(128, activation = 'relu'))\n",
        "model.add(Dropout(0.4))\n",
        "model.add(Dense(10, activation = 'softmax'))"
      ]
    },
    {
      "cell_type": "code",
      "execution_count": null,
      "metadata": {
        "colab": {
          "base_uri": "https://localhost:8080/"
        },
        "id": "7VbNGV3FJl60",
        "outputId": "e7b80730-9870-4ba6-b758-97e0d0c6a9db"
      },
      "outputs": [
        {
          "output_type": "stream",
          "name": "stdout",
          "text": [
            "Model: \"sequential\"\n",
            "_________________________________________________________________\n",
            " Layer (type)                Output Shape              Param #   \n",
            "=================================================================\n",
            " dense (Dense)               (None, 128)               100480    \n",
            "                                                                 \n",
            " dropout (Dropout)           (None, 128)               0         \n",
            "                                                                 \n",
            " dense_1 (Dense)             (None, 128)               16512     \n",
            "                                                                 \n",
            " dropout_1 (Dropout)         (None, 128)               0         \n",
            "                                                                 \n",
            " dense_2 (Dense)             (None, 128)               16512     \n",
            "                                                                 \n",
            " dropout_2 (Dropout)         (None, 128)               0         \n",
            "                                                                 \n",
            " dense_3 (Dense)             (None, 10)                1290      \n",
            "                                                                 \n",
            "=================================================================\n",
            "Total params: 134,794\n",
            "Trainable params: 134,794\n",
            "Non-trainable params: 0\n",
            "_________________________________________________________________\n"
          ]
        }
      ],
      "source": [
        "model.summary()"
      ]
    },
    {
      "cell_type": "code",
      "execution_count": null,
      "metadata": {
        "id": "IgIH_8ZMWDx0"
      },
      "outputs": [],
      "source": [
        "model.compile(optimizer = 'Adam', loss = 'CategoricalCrossentropy', metrics = ['accuracy'])"
      ]
    },
    {
      "cell_type": "code",
      "execution_count": null,
      "metadata": {
        "id": "X55rvf-ddnmo"
      },
      "outputs": [],
      "source": [
        "y_train_ohe = to_categorical(y_train)\n",
        "y_test_ohe = to_categorical(y_test)"
      ]
    },
    {
      "cell_type": "code",
      "execution_count": null,
      "metadata": {
        "colab": {
          "base_uri": "https://localhost:8080/"
        },
        "id": "xH_sX8mjdzdG",
        "outputId": "b988ec25-9bcd-4562-a059-c38aee607738"
      },
      "outputs": [
        {
          "output_type": "stream",
          "name": "stdout",
          "text": [
            "(33600, 10)\n",
            "(8400, 10)\n"
          ]
        }
      ],
      "source": [
        "print(y_train_ohe.shape)\n",
        "print(y_test_ohe.shape)"
      ]
    },
    {
      "cell_type": "code",
      "execution_count": null,
      "metadata": {
        "colab": {
          "base_uri": "https://localhost:8080/"
        },
        "id": "PdMRCaXqeXd-",
        "outputId": "10fedf5d-438c-4fad-f548-1f166864d052"
      },
      "outputs": [
        {
          "output_type": "execute_result",
          "data": {
            "text/plain": [
              "40572    2\n",
              "20883    9\n",
              "3479     2\n",
              "34084    1\n",
              "2067     5\n",
              "        ..\n",
              "7763     0\n",
              "15377    7\n",
              "17730    9\n",
              "28030    6\n",
              "15725    7\n",
              "Name: label, Length: 33600, dtype: int64"
            ]
          },
          "metadata": {},
          "execution_count": 35
        }
      ],
      "source": [
        "y_train"
      ]
    },
    {
      "cell_type": "code",
      "execution_count": null,
      "metadata": {
        "colab": {
          "base_uri": "https://localhost:8080/"
        },
        "id": "3XOAgDN6d-wW",
        "outputId": "50401bfd-cd4d-4d2d-c04a-9419ab307e1f"
      },
      "outputs": [
        {
          "output_type": "execute_result",
          "data": {
            "text/plain": [
              "array([[0., 0., 1., ..., 0., 0., 0.],\n",
              "       [0., 0., 0., ..., 0., 0., 1.],\n",
              "       [0., 0., 1., ..., 0., 0., 0.],\n",
              "       ...,\n",
              "       [0., 0., 0., ..., 0., 0., 1.],\n",
              "       [0., 0., 0., ..., 0., 0., 0.],\n",
              "       [0., 0., 0., ..., 1., 0., 0.]], dtype=float32)"
            ]
          },
          "metadata": {},
          "execution_count": 36
        }
      ],
      "source": [
        "y_train_ohe"
      ]
    },
    {
      "cell_type": "code",
      "execution_count": null,
      "metadata": {
        "colab": {
          "base_uri": "https://localhost:8080/"
        },
        "id": "LgLCsnh5eEdi",
        "outputId": "974b55cd-4015-4d58-8cfa-36445b7b9273"
      },
      "outputs": [
        {
          "output_type": "execute_result",
          "data": {
            "text/plain": [
              "array([[0., 0., 1., ..., 0., 0., 0.],\n",
              "       [0., 0., 1., ..., 0., 0., 0.],\n",
              "       [1., 0., 0., ..., 0., 0., 0.],\n",
              "       ...,\n",
              "       [0., 0., 0., ..., 0., 0., 0.],\n",
              "       [1., 0., 0., ..., 0., 0., 0.],\n",
              "       [0., 0., 0., ..., 0., 0., 1.]], dtype=float32)"
            ]
          },
          "metadata": {},
          "execution_count": 37
        }
      ],
      "source": [
        "y_test_ohe"
      ]
    },
    {
      "cell_type": "code",
      "execution_count": null,
      "metadata": {
        "colab": {
          "base_uri": "https://localhost:8080/"
        },
        "id": "PhC7367xepXa",
        "outputId": "332039af-88c6-4a3d-914b-16b45c81ecf6"
      },
      "outputs": [
        {
          "output_type": "stream",
          "name": "stdout",
          "text": [
            "Epoch 1/250\n",
            "525/525 - 5s - loss: 4.8479 - accuracy: 0.2438 - val_loss: 1.5382 - val_accuracy: 0.4663 - 5s/epoch - 9ms/step\n",
            "Epoch 2/250\n",
            "525/525 - 3s - loss: 1.6575 - accuracy: 0.4156 - val_loss: 1.2095 - val_accuracy: 0.5624 - 3s/epoch - 6ms/step\n",
            "Epoch 3/250\n",
            "525/525 - 3s - loss: 1.4469 - accuracy: 0.4762 - val_loss: 0.9715 - val_accuracy: 0.6567 - 3s/epoch - 6ms/step\n",
            "Epoch 4/250\n",
            "525/525 - 4s - loss: 1.2588 - accuracy: 0.5627 - val_loss: 0.8158 - val_accuracy: 0.7439 - 4s/epoch - 8ms/step\n",
            "Epoch 5/250\n",
            "525/525 - 3s - loss: 1.0659 - accuracy: 0.6506 - val_loss: 0.6674 - val_accuracy: 0.7917 - 3s/epoch - 5ms/step\n",
            "Epoch 6/250\n",
            "525/525 - 3s - loss: 0.8869 - accuracy: 0.7018 - val_loss: 0.5781 - val_accuracy: 0.8020 - 3s/epoch - 5ms/step\n",
            "Epoch 7/250\n",
            "525/525 - 3s - loss: 0.8204 - accuracy: 0.7251 - val_loss: 0.5434 - val_accuracy: 0.8104 - 3s/epoch - 5ms/step\n",
            "Epoch 8/250\n",
            "525/525 - 4s - loss: 0.7682 - accuracy: 0.7377 - val_loss: 0.5210 - val_accuracy: 0.8199 - 4s/epoch - 8ms/step\n",
            "Epoch 9/250\n",
            "525/525 - 3s - loss: 0.7136 - accuracy: 0.7571 - val_loss: 0.4894 - val_accuracy: 0.8294 - 3s/epoch - 5ms/step\n",
            "Epoch 10/250\n",
            "525/525 - 3s - loss: 0.6864 - accuracy: 0.7668 - val_loss: 0.4478 - val_accuracy: 0.8394 - 3s/epoch - 5ms/step\n",
            "Epoch 11/250\n",
            "525/525 - 3s - loss: 0.6509 - accuracy: 0.7754 - val_loss: 0.4398 - val_accuracy: 0.8396 - 3s/epoch - 5ms/step\n",
            "Epoch 12/250\n",
            "525/525 - 4s - loss: 0.6356 - accuracy: 0.7811 - val_loss: 0.4371 - val_accuracy: 0.8544 - 4s/epoch - 8ms/step\n",
            "Epoch 13/250\n",
            "525/525 - 3s - loss: 0.6128 - accuracy: 0.7911 - val_loss: 0.4357 - val_accuracy: 0.8456 - 3s/epoch - 5ms/step\n",
            "Epoch 14/250\n",
            "525/525 - 3s - loss: 0.5948 - accuracy: 0.7901 - val_loss: 0.4247 - val_accuracy: 0.8502 - 3s/epoch - 5ms/step\n",
            "Epoch 15/250\n",
            "525/525 - 3s - loss: 0.5769 - accuracy: 0.7970 - val_loss: 0.4050 - val_accuracy: 0.8577 - 3s/epoch - 5ms/step\n",
            "Epoch 16/250\n",
            "525/525 - 4s - loss: 0.5725 - accuracy: 0.7978 - val_loss: 0.3884 - val_accuracy: 0.8570 - 4s/epoch - 7ms/step\n",
            "Epoch 17/250\n",
            "525/525 - 3s - loss: 0.5713 - accuracy: 0.7977 - val_loss: 0.4102 - val_accuracy: 0.8621 - 3s/epoch - 5ms/step\n",
            "Epoch 18/250\n",
            "525/525 - 3s - loss: 0.5536 - accuracy: 0.8077 - val_loss: 0.3977 - val_accuracy: 0.8756 - 3s/epoch - 6ms/step\n",
            "Epoch 19/250\n",
            "525/525 - 3s - loss: 0.5408 - accuracy: 0.8121 - val_loss: 0.3843 - val_accuracy: 0.8746 - 3s/epoch - 5ms/step\n",
            "Epoch 20/250\n",
            "525/525 - 4s - loss: 0.5330 - accuracy: 0.8178 - val_loss: 0.3785 - val_accuracy: 0.8787 - 4s/epoch - 7ms/step\n",
            "Epoch 21/250\n",
            "525/525 - 3s - loss: 0.5148 - accuracy: 0.8370 - val_loss: 0.3423 - val_accuracy: 0.9144 - 3s/epoch - 5ms/step\n",
            "Epoch 22/250\n",
            "525/525 - 3s - loss: 0.4918 - accuracy: 0.8571 - val_loss: 0.3253 - val_accuracy: 0.9276 - 3s/epoch - 5ms/step\n",
            "Epoch 23/250\n",
            "525/525 - 3s - loss: 0.4687 - accuracy: 0.8634 - val_loss: 0.3135 - val_accuracy: 0.9288 - 3s/epoch - 5ms/step\n",
            "Epoch 24/250\n",
            "525/525 - 4s - loss: 0.4602 - accuracy: 0.8674 - val_loss: 0.2932 - val_accuracy: 0.9315 - 4s/epoch - 7ms/step\n",
            "Epoch 25/250\n",
            "525/525 - 3s - loss: 0.4575 - accuracy: 0.8701 - val_loss: 0.2877 - val_accuracy: 0.9336 - 3s/epoch - 6ms/step\n",
            "Epoch 26/250\n",
            "525/525 - 3s - loss: 0.4433 - accuracy: 0.8745 - val_loss: 0.3121 - val_accuracy: 0.9313 - 3s/epoch - 5ms/step\n",
            "Epoch 27/250\n",
            "525/525 - 3s - loss: 0.4409 - accuracy: 0.8744 - val_loss: 0.2745 - val_accuracy: 0.9404 - 3s/epoch - 6ms/step\n",
            "Epoch 28/250\n",
            "525/525 - 4s - loss: 0.4262 - accuracy: 0.8804 - val_loss: 0.2887 - val_accuracy: 0.9339 - 4s/epoch - 7ms/step\n",
            "Epoch 29/250\n",
            "525/525 - 3s - loss: 0.4274 - accuracy: 0.8804 - val_loss: 0.2837 - val_accuracy: 0.9371 - 3s/epoch - 6ms/step\n",
            "Epoch 30/250\n",
            "525/525 - 3s - loss: 0.4297 - accuracy: 0.8813 - val_loss: 0.2927 - val_accuracy: 0.9382 - 3s/epoch - 5ms/step\n",
            "Epoch 31/250\n",
            "525/525 - 3s - loss: 0.4050 - accuracy: 0.8907 - val_loss: 0.2643 - val_accuracy: 0.9395 - 3s/epoch - 5ms/step\n",
            "Epoch 32/250\n",
            "525/525 - 4s - loss: 0.3912 - accuracy: 0.8949 - val_loss: 0.3026 - val_accuracy: 0.9333 - 4s/epoch - 7ms/step\n",
            "Epoch 33/250\n",
            "525/525 - 3s - loss: 0.3834 - accuracy: 0.8984 - val_loss: 0.2594 - val_accuracy: 0.9380 - 3s/epoch - 6ms/step\n",
            "Epoch 34/250\n",
            "525/525 - 3s - loss: 0.3753 - accuracy: 0.8996 - val_loss: 0.2619 - val_accuracy: 0.9414 - 3s/epoch - 6ms/step\n",
            "Epoch 35/250\n",
            "525/525 - 3s - loss: 0.3784 - accuracy: 0.9009 - val_loss: 0.2660 - val_accuracy: 0.9399 - 3s/epoch - 6ms/step\n",
            "Epoch 36/250\n",
            "525/525 - 4s - loss: 0.3705 - accuracy: 0.9021 - val_loss: 0.2702 - val_accuracy: 0.9380 - 4s/epoch - 7ms/step\n",
            "Epoch 37/250\n",
            "525/525 - 3s - loss: 0.3668 - accuracy: 0.9027 - val_loss: 0.2722 - val_accuracy: 0.9357 - 3s/epoch - 6ms/step\n",
            "Epoch 38/250\n",
            "525/525 - 3s - loss: 0.3496 - accuracy: 0.9080 - val_loss: 0.2577 - val_accuracy: 0.9451 - 3s/epoch - 5ms/step\n",
            "Epoch 39/250\n",
            "525/525 - 3s - loss: 0.3553 - accuracy: 0.9052 - val_loss: 0.2542 - val_accuracy: 0.9460 - 3s/epoch - 5ms/step\n",
            "Epoch 40/250\n",
            "525/525 - 4s - loss: 0.3548 - accuracy: 0.9067 - val_loss: 0.2555 - val_accuracy: 0.9424 - 4s/epoch - 7ms/step\n",
            "Epoch 41/250\n",
            "525/525 - 3s - loss: 0.3555 - accuracy: 0.9049 - val_loss: 0.2390 - val_accuracy: 0.9444 - 3s/epoch - 6ms/step\n",
            "Epoch 42/250\n",
            "525/525 - 3s - loss: 0.3491 - accuracy: 0.9068 - val_loss: 0.2533 - val_accuracy: 0.9442 - 3s/epoch - 5ms/step\n",
            "Epoch 43/250\n",
            "525/525 - 3s - loss: 0.3403 - accuracy: 0.9087 - val_loss: 0.2636 - val_accuracy: 0.9442 - 3s/epoch - 5ms/step\n",
            "Epoch 44/250\n",
            "525/525 - 4s - loss: 0.3305 - accuracy: 0.9145 - val_loss: 0.2495 - val_accuracy: 0.9452 - 4s/epoch - 7ms/step\n",
            "Epoch 45/250\n",
            "525/525 - 4s - loss: 0.3390 - accuracy: 0.9119 - val_loss: 0.2362 - val_accuracy: 0.9481 - 4s/epoch - 8ms/step\n",
            "Epoch 46/250\n",
            "525/525 - 3s - loss: 0.3317 - accuracy: 0.9113 - val_loss: 0.2735 - val_accuracy: 0.9445 - 3s/epoch - 5ms/step\n",
            "Epoch 47/250\n",
            "525/525 - 3s - loss: 0.3372 - accuracy: 0.9105 - val_loss: 0.2491 - val_accuracy: 0.9485 - 3s/epoch - 5ms/step\n",
            "Epoch 48/250\n",
            "525/525 - 4s - loss: 0.3239 - accuracy: 0.9143 - val_loss: 0.2678 - val_accuracy: 0.9461 - 4s/epoch - 8ms/step\n",
            "Epoch 49/250\n",
            "525/525 - 3s - loss: 0.3292 - accuracy: 0.9124 - val_loss: 0.2444 - val_accuracy: 0.9495 - 3s/epoch - 6ms/step\n",
            "Epoch 50/250\n",
            "525/525 - 3s - loss: 0.3187 - accuracy: 0.9146 - val_loss: 0.2511 - val_accuracy: 0.9475 - 3s/epoch - 5ms/step\n",
            "Epoch 51/250\n",
            "525/525 - 3s - loss: 0.3285 - accuracy: 0.9116 - val_loss: 0.2496 - val_accuracy: 0.9468 - 3s/epoch - 5ms/step\n",
            "Epoch 52/250\n",
            "525/525 - 4s - loss: 0.3267 - accuracy: 0.9141 - val_loss: 0.2566 - val_accuracy: 0.9463 - 4s/epoch - 8ms/step\n",
            "Epoch 53/250\n",
            "525/525 - 3s - loss: 0.3179 - accuracy: 0.9155 - val_loss: 0.2644 - val_accuracy: 0.9471 - 3s/epoch - 5ms/step\n",
            "Epoch 54/250\n",
            "525/525 - 3s - loss: 0.3231 - accuracy: 0.9124 - val_loss: 0.2319 - val_accuracy: 0.9499 - 3s/epoch - 5ms/step\n",
            "Epoch 55/250\n",
            "525/525 - 3s - loss: 0.3134 - accuracy: 0.9157 - val_loss: 0.2600 - val_accuracy: 0.9444 - 3s/epoch - 5ms/step\n",
            "Epoch 56/250\n",
            "525/525 - 4s - loss: 0.3082 - accuracy: 0.9179 - val_loss: 0.2561 - val_accuracy: 0.9458 - 4s/epoch - 7ms/step\n",
            "Epoch 57/250\n",
            "525/525 - 3s - loss: 0.3117 - accuracy: 0.9165 - val_loss: 0.2631 - val_accuracy: 0.9490 - 3s/epoch - 5ms/step\n",
            "Epoch 58/250\n",
            "525/525 - 3s - loss: 0.3065 - accuracy: 0.9168 - val_loss: 0.2558 - val_accuracy: 0.9467 - 3s/epoch - 5ms/step\n",
            "Epoch 59/250\n",
            "525/525 - 3s - loss: 0.2993 - accuracy: 0.9187 - val_loss: 0.2798 - val_accuracy: 0.9460 - 3s/epoch - 5ms/step\n",
            "Epoch 60/250\n",
            "525/525 - 3s - loss: 0.3064 - accuracy: 0.9190 - val_loss: 0.2712 - val_accuracy: 0.9469 - 3s/epoch - 6ms/step\n",
            "Epoch 61/250\n",
            "525/525 - 3s - loss: 0.3090 - accuracy: 0.9188 - val_loss: 0.2704 - val_accuracy: 0.9471 - 3s/epoch - 6ms/step\n",
            "Epoch 62/250\n",
            "525/525 - 3s - loss: 0.3009 - accuracy: 0.9182 - val_loss: 0.2749 - val_accuracy: 0.9476 - 3s/epoch - 5ms/step\n",
            "Epoch 63/250\n",
            "525/525 - 3s - loss: 0.3135 - accuracy: 0.9178 - val_loss: 0.2652 - val_accuracy: 0.9477 - 3s/epoch - 5ms/step\n",
            "Epoch 64/250\n",
            "525/525 - 3s - loss: 0.3082 - accuracy: 0.9177 - val_loss: 0.2468 - val_accuracy: 0.9487 - 3s/epoch - 6ms/step\n",
            "Epoch 65/250\n",
            "525/525 - 4s - loss: 0.3033 - accuracy: 0.9174 - val_loss: 0.2767 - val_accuracy: 0.9439 - 4s/epoch - 7ms/step\n",
            "Epoch 66/250\n",
            "525/525 - 3s - loss: 0.2968 - accuracy: 0.9206 - val_loss: 0.2482 - val_accuracy: 0.9501 - 3s/epoch - 5ms/step\n",
            "Epoch 67/250\n",
            "525/525 - 3s - loss: 0.3001 - accuracy: 0.9191 - val_loss: 0.2582 - val_accuracy: 0.9446 - 3s/epoch - 6ms/step\n",
            "Epoch 68/250\n",
            "525/525 - 3s - loss: 0.2998 - accuracy: 0.9164 - val_loss: 0.2775 - val_accuracy: 0.9485 - 3s/epoch - 6ms/step\n",
            "Epoch 69/250\n",
            "525/525 - 4s - loss: 0.2930 - accuracy: 0.9199 - val_loss: 0.2638 - val_accuracy: 0.9504 - 4s/epoch - 7ms/step\n",
            "Epoch 70/250\n",
            "525/525 - 3s - loss: 0.2817 - accuracy: 0.9229 - val_loss: 0.2714 - val_accuracy: 0.9481 - 3s/epoch - 5ms/step\n",
            "Epoch 71/250\n",
            "525/525 - 3s - loss: 0.2883 - accuracy: 0.9206 - val_loss: 0.2547 - val_accuracy: 0.9495 - 3s/epoch - 5ms/step\n",
            "Epoch 72/250\n",
            "525/525 - 3s - loss: 0.2821 - accuracy: 0.9229 - val_loss: 0.2457 - val_accuracy: 0.9479 - 3s/epoch - 5ms/step\n",
            "Epoch 73/250\n",
            "525/525 - 4s - loss: 0.2876 - accuracy: 0.9188 - val_loss: 0.2488 - val_accuracy: 0.9457 - 4s/epoch - 7ms/step\n",
            "Epoch 74/250\n",
            "525/525 - 3s - loss: 0.2790 - accuracy: 0.9229 - val_loss: 0.2562 - val_accuracy: 0.9481 - 3s/epoch - 5ms/step\n",
            "Epoch 75/250\n",
            "525/525 - 3s - loss: 0.2770 - accuracy: 0.9212 - val_loss: 0.2439 - val_accuracy: 0.9500 - 3s/epoch - 5ms/step\n",
            "Epoch 76/250\n",
            "525/525 - 3s - loss: 0.2687 - accuracy: 0.9243 - val_loss: 0.2871 - val_accuracy: 0.9457 - 3s/epoch - 5ms/step\n",
            "Epoch 77/250\n",
            "525/525 - 4s - loss: 0.2832 - accuracy: 0.9210 - val_loss: 0.2616 - val_accuracy: 0.9470 - 4s/epoch - 7ms/step\n",
            "Epoch 78/250\n",
            "525/525 - 3s - loss: 0.2769 - accuracy: 0.9203 - val_loss: 0.2465 - val_accuracy: 0.9470 - 3s/epoch - 5ms/step\n",
            "Epoch 79/250\n",
            "525/525 - 3s - loss: 0.2730 - accuracy: 0.9237 - val_loss: 0.2641 - val_accuracy: 0.9465 - 3s/epoch - 5ms/step\n",
            "Epoch 80/250\n",
            "525/525 - 3s - loss: 0.2777 - accuracy: 0.9216 - val_loss: 0.3023 - val_accuracy: 0.9480 - 3s/epoch - 5ms/step\n",
            "Epoch 81/250\n",
            "525/525 - 4s - loss: 0.2844 - accuracy: 0.9200 - val_loss: 0.2714 - val_accuracy: 0.9476 - 4s/epoch - 8ms/step\n",
            "Epoch 82/250\n",
            "525/525 - 3s - loss: 0.2683 - accuracy: 0.9243 - val_loss: 0.2692 - val_accuracy: 0.9457 - 3s/epoch - 6ms/step\n",
            "Epoch 83/250\n",
            "525/525 - 3s - loss: 0.2672 - accuracy: 0.9235 - val_loss: 0.2851 - val_accuracy: 0.9445 - 3s/epoch - 6ms/step\n",
            "Epoch 84/250\n",
            "525/525 - 3s - loss: 0.2769 - accuracy: 0.9211 - val_loss: 0.2528 - val_accuracy: 0.9476 - 3s/epoch - 5ms/step\n",
            "Epoch 85/250\n",
            "525/525 - 4s - loss: 0.2755 - accuracy: 0.9206 - val_loss: 0.2511 - val_accuracy: 0.9494 - 4s/epoch - 7ms/step\n",
            "Epoch 86/250\n",
            "525/525 - 3s - loss: 0.2918 - accuracy: 0.9187 - val_loss: 0.2700 - val_accuracy: 0.9480 - 3s/epoch - 5ms/step\n",
            "Epoch 87/250\n",
            "525/525 - 3s - loss: 0.2740 - accuracy: 0.9228 - val_loss: 0.2749 - val_accuracy: 0.9480 - 3s/epoch - 5ms/step\n",
            "Epoch 88/250\n",
            "525/525 - 3s - loss: 0.2631 - accuracy: 0.9254 - val_loss: 0.2367 - val_accuracy: 0.9490 - 3s/epoch - 5ms/step\n",
            "Epoch 89/250\n",
            "525/525 - 4s - loss: 0.2685 - accuracy: 0.9246 - val_loss: 0.2669 - val_accuracy: 0.9464 - 4s/epoch - 7ms/step\n",
            "Epoch 90/250\n",
            "525/525 - 3s - loss: 0.2771 - accuracy: 0.9222 - val_loss: 0.2583 - val_accuracy: 0.9460 - 3s/epoch - 6ms/step\n",
            "Epoch 91/250\n",
            "525/525 - 3s - loss: 0.2665 - accuracy: 0.9258 - val_loss: 0.2873 - val_accuracy: 0.9494 - 3s/epoch - 5ms/step\n",
            "Epoch 92/250\n",
            "525/525 - 3s - loss: 0.2633 - accuracy: 0.9253 - val_loss: 0.2661 - val_accuracy: 0.9493 - 3s/epoch - 5ms/step\n",
            "Epoch 93/250\n",
            "525/525 - 4s - loss: 0.2719 - accuracy: 0.9222 - val_loss: 0.2624 - val_accuracy: 0.9482 - 4s/epoch - 7ms/step\n",
            "Epoch 94/250\n",
            "525/525 - 3s - loss: 0.2692 - accuracy: 0.9242 - val_loss: 0.2755 - val_accuracy: 0.9502 - 3s/epoch - 6ms/step\n",
            "Epoch 95/250\n",
            "525/525 - 3s - loss: 0.2730 - accuracy: 0.9235 - val_loss: 0.2911 - val_accuracy: 0.9471 - 3s/epoch - 5ms/step\n",
            "Epoch 96/250\n",
            "525/525 - 3s - loss: 0.2729 - accuracy: 0.9229 - val_loss: 0.3260 - val_accuracy: 0.9490 - 3s/epoch - 5ms/step\n",
            "Epoch 97/250\n",
            "525/525 - 3s - loss: 0.2664 - accuracy: 0.9244 - val_loss: 0.2933 - val_accuracy: 0.9467 - 3s/epoch - 7ms/step\n",
            "Epoch 98/250\n",
            "525/525 - 5s - loss: 0.2647 - accuracy: 0.9251 - val_loss: 0.2609 - val_accuracy: 0.9500 - 5s/epoch - 9ms/step\n",
            "Epoch 99/250\n",
            "525/525 - 3s - loss: 0.2696 - accuracy: 0.9229 - val_loss: 0.2843 - val_accuracy: 0.9461 - 3s/epoch - 5ms/step\n",
            "Epoch 100/250\n",
            "525/525 - 3s - loss: 0.2644 - accuracy: 0.9256 - val_loss: 0.3086 - val_accuracy: 0.9476 - 3s/epoch - 5ms/step\n",
            "Epoch 101/250\n",
            "525/525 - 3s - loss: 0.2672 - accuracy: 0.9233 - val_loss: 0.3226 - val_accuracy: 0.9470 - 3s/epoch - 5ms/step\n",
            "Epoch 102/250\n",
            "525/525 - 4s - loss: 0.2644 - accuracy: 0.9253 - val_loss: 0.3190 - val_accuracy: 0.9468 - 4s/epoch - 7ms/step\n",
            "Epoch 103/250\n",
            "525/525 - 3s - loss: 0.2750 - accuracy: 0.9219 - val_loss: 0.2850 - val_accuracy: 0.9457 - 3s/epoch - 5ms/step\n",
            "Epoch 104/250\n",
            "525/525 - 3s - loss: 0.2619 - accuracy: 0.9242 - val_loss: 0.3083 - val_accuracy: 0.9477 - 3s/epoch - 5ms/step\n",
            "Epoch 105/250\n",
            "525/525 - 3s - loss: 0.2587 - accuracy: 0.9265 - val_loss: 0.2562 - val_accuracy: 0.9465 - 3s/epoch - 5ms/step\n",
            "Epoch 106/250\n",
            "525/525 - 4s - loss: 0.2669 - accuracy: 0.9244 - val_loss: 0.2882 - val_accuracy: 0.9394 - 4s/epoch - 8ms/step\n",
            "Epoch 107/250\n",
            "525/525 - 3s - loss: 0.2603 - accuracy: 0.9248 - val_loss: 0.2798 - val_accuracy: 0.9498 - 3s/epoch - 5ms/step\n",
            "Epoch 108/250\n",
            "525/525 - 3s - loss: 0.2538 - accuracy: 0.9285 - val_loss: 0.3103 - val_accuracy: 0.9462 - 3s/epoch - 5ms/step\n",
            "Epoch 109/250\n",
            "525/525 - 3s - loss: 0.2639 - accuracy: 0.9253 - val_loss: 0.2808 - val_accuracy: 0.9471 - 3s/epoch - 5ms/step\n",
            "Epoch 110/250\n",
            "525/525 - 4s - loss: 0.2664 - accuracy: 0.9250 - val_loss: 0.2955 - val_accuracy: 0.9443 - 4s/epoch - 8ms/step\n",
            "Epoch 111/250\n",
            "525/525 - 3s - loss: 0.2517 - accuracy: 0.9275 - val_loss: 0.2791 - val_accuracy: 0.9477 - 3s/epoch - 5ms/step\n",
            "Epoch 112/250\n",
            "525/525 - 3s - loss: 0.2570 - accuracy: 0.9269 - val_loss: 0.2448 - val_accuracy: 0.9500 - 3s/epoch - 6ms/step\n",
            "Epoch 113/250\n",
            "525/525 - 3s - loss: 0.2540 - accuracy: 0.9267 - val_loss: 0.2917 - val_accuracy: 0.9463 - 3s/epoch - 5ms/step\n",
            "Epoch 114/250\n",
            "525/525 - 4s - loss: 0.2567 - accuracy: 0.9268 - val_loss: 0.2779 - val_accuracy: 0.9463 - 4s/epoch - 8ms/step\n",
            "Epoch 115/250\n",
            "525/525 - 3s - loss: 0.2681 - accuracy: 0.9251 - val_loss: 0.2789 - val_accuracy: 0.9493 - 3s/epoch - 5ms/step\n",
            "Epoch 116/250\n",
            "525/525 - 3s - loss: 0.2678 - accuracy: 0.9243 - val_loss: 0.2846 - val_accuracy: 0.9512 - 3s/epoch - 5ms/step\n",
            "Epoch 117/250\n",
            "525/525 - 3s - loss: 0.2617 - accuracy: 0.9255 - val_loss: 0.2524 - val_accuracy: 0.9471 - 3s/epoch - 5ms/step\n",
            "Epoch 118/250\n",
            "525/525 - 4s - loss: 0.2619 - accuracy: 0.9246 - val_loss: 0.2859 - val_accuracy: 0.9486 - 4s/epoch - 7ms/step\n",
            "Epoch 119/250\n",
            "525/525 - 3s - loss: 0.2587 - accuracy: 0.9257 - val_loss: 0.2888 - val_accuracy: 0.9518 - 3s/epoch - 5ms/step\n",
            "Epoch 120/250\n",
            "525/525 - 3s - loss: 0.2611 - accuracy: 0.9237 - val_loss: 0.2994 - val_accuracy: 0.9486 - 3s/epoch - 5ms/step\n",
            "Epoch 121/250\n",
            "525/525 - 3s - loss: 0.2581 - accuracy: 0.9253 - val_loss: 0.3611 - val_accuracy: 0.9482 - 3s/epoch - 5ms/step\n",
            "Epoch 122/250\n",
            "525/525 - 4s - loss: 0.2691 - accuracy: 0.9254 - val_loss: 0.3043 - val_accuracy: 0.9480 - 4s/epoch - 7ms/step\n",
            "Epoch 123/250\n",
            "525/525 - 3s - loss: 0.2620 - accuracy: 0.9270 - val_loss: 0.2965 - val_accuracy: 0.9474 - 3s/epoch - 6ms/step\n",
            "Epoch 124/250\n",
            "525/525 - 3s - loss: 0.2570 - accuracy: 0.9265 - val_loss: 0.3174 - val_accuracy: 0.9443 - 3s/epoch - 5ms/step\n",
            "Epoch 125/250\n",
            "525/525 - 3s - loss: 0.2568 - accuracy: 0.9268 - val_loss: 0.3268 - val_accuracy: 0.9465 - 3s/epoch - 5ms/step\n",
            "Epoch 126/250\n",
            "525/525 - 4s - loss: 0.2467 - accuracy: 0.9269 - val_loss: 0.2782 - val_accuracy: 0.9489 - 4s/epoch - 7ms/step\n",
            "Epoch 127/250\n",
            "525/525 - 3s - loss: 0.2505 - accuracy: 0.9267 - val_loss: 0.3115 - val_accuracy: 0.9490 - 3s/epoch - 6ms/step\n",
            "Epoch 128/250\n",
            "525/525 - 3s - loss: 0.2622 - accuracy: 0.9251 - val_loss: 0.2819 - val_accuracy: 0.9485 - 3s/epoch - 5ms/step\n",
            "Epoch 129/250\n",
            "525/525 - 3s - loss: 0.2486 - accuracy: 0.9289 - val_loss: 0.2922 - val_accuracy: 0.9512 - 3s/epoch - 5ms/step\n",
            "Epoch 130/250\n",
            "525/525 - 3s - loss: 0.2402 - accuracy: 0.9309 - val_loss: 0.2980 - val_accuracy: 0.9477 - 3s/epoch - 6ms/step\n",
            "Epoch 131/250\n",
            "525/525 - 3s - loss: 0.2483 - accuracy: 0.9293 - val_loss: 0.3106 - val_accuracy: 0.9476 - 3s/epoch - 6ms/step\n",
            "Epoch 132/250\n",
            "525/525 - 3s - loss: 0.2539 - accuracy: 0.9280 - val_loss: 0.3277 - val_accuracy: 0.9495 - 3s/epoch - 5ms/step\n",
            "Epoch 133/250\n",
            "525/525 - 3s - loss: 0.2513 - accuracy: 0.9272 - val_loss: 0.3200 - val_accuracy: 0.9492 - 3s/epoch - 5ms/step\n",
            "Epoch 134/250\n",
            "525/525 - 3s - loss: 0.2468 - accuracy: 0.9296 - val_loss: 0.2839 - val_accuracy: 0.9482 - 3s/epoch - 6ms/step\n",
            "Epoch 135/250\n",
            "525/525 - 4s - loss: 0.2572 - accuracy: 0.9271 - val_loss: 0.2884 - val_accuracy: 0.9493 - 4s/epoch - 7ms/step\n",
            "Epoch 136/250\n",
            "525/525 - 3s - loss: 0.2542 - accuracy: 0.9274 - val_loss: 0.3023 - val_accuracy: 0.9480 - 3s/epoch - 5ms/step\n",
            "Epoch 137/250\n",
            "525/525 - 3s - loss: 0.2454 - accuracy: 0.9286 - val_loss: 0.3004 - val_accuracy: 0.9519 - 3s/epoch - 5ms/step\n",
            "Epoch 138/250\n",
            "525/525 - 3s - loss: 0.2533 - accuracy: 0.9253 - val_loss: 0.3145 - val_accuracy: 0.9480 - 3s/epoch - 6ms/step\n",
            "Epoch 139/250\n",
            "525/525 - 4s - loss: 0.2577 - accuracy: 0.9267 - val_loss: 0.3102 - val_accuracy: 0.9460 - 4s/epoch - 7ms/step\n",
            "Epoch 140/250\n",
            "525/525 - 3s - loss: 0.2391 - accuracy: 0.9303 - val_loss: 0.2978 - val_accuracy: 0.9479 - 3s/epoch - 5ms/step\n",
            "Epoch 141/250\n",
            "525/525 - 3s - loss: 0.2481 - accuracy: 0.9290 - val_loss: 0.2962 - val_accuracy: 0.9489 - 3s/epoch - 6ms/step\n",
            "Epoch 142/250\n",
            "525/525 - 3s - loss: 0.2500 - accuracy: 0.9292 - val_loss: 0.2920 - val_accuracy: 0.9474 - 3s/epoch - 6ms/step\n",
            "Epoch 143/250\n",
            "525/525 - 4s - loss: 0.2561 - accuracy: 0.9262 - val_loss: 0.2809 - val_accuracy: 0.9486 - 4s/epoch - 7ms/step\n",
            "Epoch 144/250\n",
            "525/525 - 3s - loss: 0.2436 - accuracy: 0.9308 - val_loss: 0.3491 - val_accuracy: 0.9485 - 3s/epoch - 5ms/step\n",
            "Epoch 145/250\n",
            "525/525 - 3s - loss: 0.2453 - accuracy: 0.9304 - val_loss: 0.2975 - val_accuracy: 0.9467 - 3s/epoch - 5ms/step\n",
            "Epoch 146/250\n",
            "525/525 - 3s - loss: 0.2454 - accuracy: 0.9290 - val_loss: 0.3039 - val_accuracy: 0.9470 - 3s/epoch - 6ms/step\n",
            "Epoch 147/250\n",
            "525/525 - 4s - loss: 0.2449 - accuracy: 0.9287 - val_loss: 0.3135 - val_accuracy: 0.9479 - 4s/epoch - 8ms/step\n",
            "Epoch 148/250\n",
            "525/525 - 3s - loss: 0.2511 - accuracy: 0.9294 - val_loss: 0.3368 - val_accuracy: 0.9502 - 3s/epoch - 5ms/step\n",
            "Epoch 149/250\n",
            "525/525 - 4s - loss: 0.2383 - accuracy: 0.9305 - val_loss: 0.3217 - val_accuracy: 0.9479 - 4s/epoch - 7ms/step\n",
            "Epoch 150/250\n",
            "525/525 - 4s - loss: 0.2472 - accuracy: 0.9295 - val_loss: 0.2801 - val_accuracy: 0.9450 - 4s/epoch - 8ms/step\n",
            "Epoch 151/250\n",
            "525/525 - 3s - loss: 0.2605 - accuracy: 0.9258 - val_loss: 0.2713 - val_accuracy: 0.9482 - 3s/epoch - 6ms/step\n",
            "Epoch 152/250\n",
            "525/525 - 3s - loss: 0.2538 - accuracy: 0.9265 - val_loss: 0.3124 - val_accuracy: 0.9451 - 3s/epoch - 6ms/step\n",
            "Epoch 153/250\n",
            "525/525 - 3s - loss: 0.2338 - accuracy: 0.9320 - val_loss: 0.3253 - val_accuracy: 0.9463 - 3s/epoch - 5ms/step\n",
            "Epoch 154/250\n",
            "525/525 - 3s - loss: 0.2443 - accuracy: 0.9300 - val_loss: 0.3047 - val_accuracy: 0.9508 - 3s/epoch - 7ms/step\n",
            "Epoch 155/250\n",
            "525/525 - 3s - loss: 0.2435 - accuracy: 0.9296 - val_loss: 0.3402 - val_accuracy: 0.9481 - 3s/epoch - 6ms/step\n",
            "Epoch 156/250\n",
            "525/525 - 3s - loss: 0.2398 - accuracy: 0.9285 - val_loss: 0.3806 - val_accuracy: 0.9425 - 3s/epoch - 5ms/step\n",
            "Epoch 157/250\n",
            "525/525 - 3s - loss: 0.2487 - accuracy: 0.9279 - val_loss: 0.3207 - val_accuracy: 0.9470 - 3s/epoch - 5ms/step\n",
            "Epoch 158/250\n",
            "525/525 - 3s - loss: 0.2532 - accuracy: 0.9259 - val_loss: 0.3308 - val_accuracy: 0.9470 - 3s/epoch - 6ms/step\n",
            "Epoch 159/250\n",
            "525/525 - 4s - loss: 0.2417 - accuracy: 0.9295 - val_loss: 0.3108 - val_accuracy: 0.9502 - 4s/epoch - 7ms/step\n",
            "Epoch 160/250\n",
            "525/525 - 3s - loss: 0.2452 - accuracy: 0.9289 - val_loss: 0.3442 - val_accuracy: 0.9473 - 3s/epoch - 6ms/step\n",
            "Epoch 161/250\n",
            "525/525 - 3s - loss: 0.2488 - accuracy: 0.9307 - val_loss: 0.3197 - val_accuracy: 0.9494 - 3s/epoch - 5ms/step\n",
            "Epoch 162/250\n",
            "525/525 - 3s - loss: 0.2427 - accuracy: 0.9303 - val_loss: 0.3053 - val_accuracy: 0.9449 - 3s/epoch - 7ms/step\n",
            "Epoch 163/250\n",
            "525/525 - 3s - loss: 0.2388 - accuracy: 0.9310 - val_loss: 0.3285 - val_accuracy: 0.9512 - 3s/epoch - 6ms/step\n",
            "Epoch 164/250\n",
            "525/525 - 3s - loss: 0.2450 - accuracy: 0.9295 - val_loss: 0.3162 - val_accuracy: 0.9485 - 3s/epoch - 5ms/step\n",
            "Epoch 165/250\n",
            "525/525 - 3s - loss: 0.2357 - accuracy: 0.9311 - val_loss: 0.3442 - val_accuracy: 0.9476 - 3s/epoch - 5ms/step\n",
            "Epoch 166/250\n",
            "525/525 - 3s - loss: 0.2477 - accuracy: 0.9287 - val_loss: 0.3212 - val_accuracy: 0.9438 - 3s/epoch - 6ms/step\n",
            "Epoch 167/250\n",
            "525/525 - 4s - loss: 0.2376 - accuracy: 0.9302 - val_loss: 0.3437 - val_accuracy: 0.9476 - 4s/epoch - 7ms/step\n",
            "Epoch 168/250\n",
            "525/525 - 3s - loss: 0.2418 - accuracy: 0.9298 - val_loss: 0.3616 - val_accuracy: 0.9510 - 3s/epoch - 5ms/step\n",
            "Epoch 169/250\n",
            "525/525 - 3s - loss: 0.2524 - accuracy: 0.9289 - val_loss: 0.3417 - val_accuracy: 0.9474 - 3s/epoch - 5ms/step\n",
            "Epoch 170/250\n",
            "525/525 - 3s - loss: 0.2513 - accuracy: 0.9287 - val_loss: 0.3944 - val_accuracy: 0.9512 - 3s/epoch - 5ms/step\n",
            "Epoch 171/250\n",
            "525/525 - 4s - loss: 0.2399 - accuracy: 0.9306 - val_loss: 0.3292 - val_accuracy: 0.9477 - 4s/epoch - 7ms/step\n",
            "Epoch 172/250\n",
            "525/525 - 3s - loss: 0.2410 - accuracy: 0.9310 - val_loss: 0.3624 - val_accuracy: 0.9481 - 3s/epoch - 5ms/step\n",
            "Epoch 173/250\n",
            "525/525 - 3s - loss: 0.2484 - accuracy: 0.9279 - val_loss: 0.3331 - val_accuracy: 0.9480 - 3s/epoch - 5ms/step\n",
            "Epoch 174/250\n",
            "525/525 - 3s - loss: 0.2466 - accuracy: 0.9295 - val_loss: 0.3602 - val_accuracy: 0.9454 - 3s/epoch - 5ms/step\n",
            "Epoch 175/250\n",
            "525/525 - 4s - loss: 0.2355 - accuracy: 0.9338 - val_loss: 0.3475 - val_accuracy: 0.9463 - 4s/epoch - 8ms/step\n",
            "Epoch 176/250\n",
            "525/525 - 3s - loss: 0.2541 - accuracy: 0.9283 - val_loss: 0.3693 - val_accuracy: 0.9454 - 3s/epoch - 5ms/step\n",
            "Epoch 177/250\n",
            "525/525 - 3s - loss: 0.2370 - accuracy: 0.9302 - val_loss: 0.3265 - val_accuracy: 0.9500 - 3s/epoch - 5ms/step\n",
            "Epoch 178/250\n",
            "525/525 - 3s - loss: 0.2338 - accuracy: 0.9329 - val_loss: 0.3409 - val_accuracy: 0.9500 - 3s/epoch - 5ms/step\n",
            "Epoch 179/250\n",
            "525/525 - 4s - loss: 0.2433 - accuracy: 0.9306 - val_loss: 0.3196 - val_accuracy: 0.9471 - 4s/epoch - 8ms/step\n",
            "Epoch 180/250\n",
            "525/525 - 3s - loss: 0.2495 - accuracy: 0.9281 - val_loss: 0.3089 - val_accuracy: 0.9481 - 3s/epoch - 5ms/step\n",
            "Epoch 181/250\n",
            "525/525 - 3s - loss: 0.2361 - accuracy: 0.9324 - val_loss: 0.3410 - val_accuracy: 0.9493 - 3s/epoch - 5ms/step\n",
            "Epoch 182/250\n",
            "525/525 - 3s - loss: 0.2530 - accuracy: 0.9293 - val_loss: 0.3259 - val_accuracy: 0.9473 - 3s/epoch - 5ms/step\n",
            "Epoch 183/250\n",
            "525/525 - 4s - loss: 0.2368 - accuracy: 0.9312 - val_loss: 0.3664 - val_accuracy: 0.9469 - 4s/epoch - 8ms/step\n",
            "Epoch 184/250\n",
            "525/525 - 3s - loss: 0.2352 - accuracy: 0.9321 - val_loss: 0.3421 - val_accuracy: 0.9508 - 3s/epoch - 5ms/step\n",
            "Epoch 185/250\n",
            "525/525 - 3s - loss: 0.2487 - accuracy: 0.9295 - val_loss: 0.3628 - val_accuracy: 0.9507 - 3s/epoch - 5ms/step\n",
            "Epoch 186/250\n",
            "525/525 - 3s - loss: 0.2344 - accuracy: 0.9328 - val_loss: 0.3865 - val_accuracy: 0.9468 - 3s/epoch - 5ms/step\n",
            "Epoch 187/250\n",
            "525/525 - 4s - loss: 0.2446 - accuracy: 0.9296 - val_loss: 0.3862 - val_accuracy: 0.9482 - 4s/epoch - 7ms/step\n",
            "Epoch 188/250\n",
            "525/525 - 3s - loss: 0.2323 - accuracy: 0.9340 - val_loss: 0.3643 - val_accuracy: 0.9499 - 3s/epoch - 6ms/step\n",
            "Epoch 189/250\n",
            "525/525 - 3s - loss: 0.2329 - accuracy: 0.9335 - val_loss: 0.3427 - val_accuracy: 0.9489 - 3s/epoch - 5ms/step\n",
            "Epoch 190/250\n",
            "525/525 - 3s - loss: 0.2400 - accuracy: 0.9304 - val_loss: 0.3632 - val_accuracy: 0.9456 - 3s/epoch - 5ms/step\n",
            "Epoch 191/250\n",
            "525/525 - 3s - loss: 0.2437 - accuracy: 0.9303 - val_loss: 0.3338 - val_accuracy: 0.9473 - 3s/epoch - 7ms/step\n",
            "Epoch 192/250\n",
            "525/525 - 3s - loss: 0.2422 - accuracy: 0.9303 - val_loss: 0.3290 - val_accuracy: 0.9471 - 3s/epoch - 6ms/step\n",
            "Epoch 193/250\n",
            "525/525 - 3s - loss: 0.2469 - accuracy: 0.9297 - val_loss: 0.3375 - val_accuracy: 0.9486 - 3s/epoch - 5ms/step\n",
            "Epoch 194/250\n",
            "525/525 - 3s - loss: 0.2309 - accuracy: 0.9339 - val_loss: 0.3560 - val_accuracy: 0.9507 - 3s/epoch - 6ms/step\n",
            "Epoch 195/250\n",
            "525/525 - 3s - loss: 0.2313 - accuracy: 0.9341 - val_loss: 0.3092 - val_accuracy: 0.9508 - 3s/epoch - 7ms/step\n",
            "Epoch 196/250\n",
            "525/525 - 3s - loss: 0.2406 - accuracy: 0.9301 - val_loss: 0.3727 - val_accuracy: 0.9462 - 3s/epoch - 6ms/step\n",
            "Epoch 197/250\n",
            "525/525 - 3s - loss: 0.2398 - accuracy: 0.9320 - val_loss: 0.3703 - val_accuracy: 0.9495 - 3s/epoch - 5ms/step\n",
            "Epoch 198/250\n",
            "525/525 - 3s - loss: 0.2447 - accuracy: 0.9312 - val_loss: 0.4084 - val_accuracy: 0.9500 - 3s/epoch - 5ms/step\n",
            "Epoch 199/250\n",
            "525/525 - 3s - loss: 0.2441 - accuracy: 0.9302 - val_loss: 0.3470 - val_accuracy: 0.9499 - 3s/epoch - 6ms/step\n",
            "Epoch 200/250\n",
            "525/525 - 4s - loss: 0.2424 - accuracy: 0.9307 - val_loss: 0.3253 - val_accuracy: 0.9485 - 4s/epoch - 7ms/step\n",
            "Epoch 201/250\n",
            "525/525 - 4s - loss: 0.2421 - accuracy: 0.9308 - val_loss: 0.3102 - val_accuracy: 0.9443 - 4s/epoch - 8ms/step\n",
            "Epoch 202/250\n",
            "525/525 - 3s - loss: 0.2481 - accuracy: 0.9264 - val_loss: 0.4049 - val_accuracy: 0.9508 - 3s/epoch - 6ms/step\n",
            "Epoch 203/250\n",
            "525/525 - 4s - loss: 0.2449 - accuracy: 0.9287 - val_loss: 0.3718 - val_accuracy: 0.9458 - 4s/epoch - 8ms/step\n",
            "Epoch 204/250\n",
            "525/525 - 3s - loss: 0.2366 - accuracy: 0.9290 - val_loss: 0.3810 - val_accuracy: 0.9473 - 3s/epoch - 5ms/step\n",
            "Epoch 205/250\n",
            "525/525 - 3s - loss: 0.2353 - accuracy: 0.9325 - val_loss: 0.3612 - val_accuracy: 0.9468 - 3s/epoch - 5ms/step\n",
            "Epoch 206/250\n",
            "525/525 - 3s - loss: 0.2516 - accuracy: 0.9290 - val_loss: 0.3234 - val_accuracy: 0.9479 - 3s/epoch - 5ms/step\n",
            "Epoch 207/250\n",
            "525/525 - 4s - loss: 0.2324 - accuracy: 0.9328 - val_loss: 0.3747 - val_accuracy: 0.9500 - 4s/epoch - 8ms/step\n",
            "Epoch 208/250\n",
            "525/525 - 3s - loss: 0.2354 - accuracy: 0.9331 - val_loss: 0.4018 - val_accuracy: 0.9486 - 3s/epoch - 5ms/step\n",
            "Epoch 209/250\n",
            "525/525 - 3s - loss: 0.2384 - accuracy: 0.9314 - val_loss: 0.3635 - val_accuracy: 0.9468 - 3s/epoch - 5ms/step\n",
            "Epoch 210/250\n",
            "525/525 - 3s - loss: 0.2419 - accuracy: 0.9313 - val_loss: 0.3870 - val_accuracy: 0.9455 - 3s/epoch - 6ms/step\n",
            "Epoch 211/250\n",
            "525/525 - 4s - loss: 0.2358 - accuracy: 0.9336 - val_loss: 0.3812 - val_accuracy: 0.9479 - 4s/epoch - 7ms/step\n",
            "Epoch 212/250\n",
            "525/525 - 3s - loss: 0.2370 - accuracy: 0.9309 - val_loss: 0.3829 - val_accuracy: 0.9481 - 3s/epoch - 5ms/step\n",
            "Epoch 213/250\n",
            "525/525 - 3s - loss: 0.2416 - accuracy: 0.9304 - val_loss: 0.3682 - val_accuracy: 0.9457 - 3s/epoch - 5ms/step\n",
            "Epoch 214/250\n",
            "525/525 - 3s - loss: 0.2448 - accuracy: 0.9314 - val_loss: 0.3474 - val_accuracy: 0.9483 - 3s/epoch - 5ms/step\n",
            "Epoch 215/250\n",
            "525/525 - 4s - loss: 0.2428 - accuracy: 0.9312 - val_loss: 0.3951 - val_accuracy: 0.9495 - 4s/epoch - 7ms/step\n",
            "Epoch 216/250\n",
            "525/525 - 3s - loss: 0.2316 - accuracy: 0.9342 - val_loss: 0.3754 - val_accuracy: 0.9461 - 3s/epoch - 6ms/step\n",
            "Epoch 217/250\n",
            "525/525 - 3s - loss: 0.2397 - accuracy: 0.9292 - val_loss: 0.3852 - val_accuracy: 0.9463 - 3s/epoch - 5ms/step\n",
            "Epoch 218/250\n",
            "525/525 - 3s - loss: 0.2359 - accuracy: 0.9323 - val_loss: 0.3406 - val_accuracy: 0.9501 - 3s/epoch - 5ms/step\n",
            "Epoch 219/250\n",
            "525/525 - 3s - loss: 0.2379 - accuracy: 0.9341 - val_loss: 0.2983 - val_accuracy: 0.9481 - 3s/epoch - 6ms/step\n",
            "Epoch 220/250\n",
            "525/525 - 3s - loss: 0.2358 - accuracy: 0.9318 - val_loss: 0.3835 - val_accuracy: 0.9490 - 3s/epoch - 6ms/step\n",
            "Epoch 221/250\n",
            "525/525 - 3s - loss: 0.2409 - accuracy: 0.9319 - val_loss: 0.3422 - val_accuracy: 0.9489 - 3s/epoch - 6ms/step\n",
            "Epoch 222/250\n",
            "525/525 - 3s - loss: 0.2365 - accuracy: 0.9324 - val_loss: 0.3365 - val_accuracy: 0.9482 - 3s/epoch - 5ms/step\n",
            "Epoch 223/250\n",
            "525/525 - 3s - loss: 0.2322 - accuracy: 0.9335 - val_loss: 0.3291 - val_accuracy: 0.9507 - 3s/epoch - 6ms/step\n",
            "Epoch 224/250\n",
            "525/525 - 3s - loss: 0.2316 - accuracy: 0.9341 - val_loss: 0.3646 - val_accuracy: 0.9504 - 3s/epoch - 6ms/step\n",
            "Epoch 225/250\n",
            "525/525 - 3s - loss: 0.2311 - accuracy: 0.9342 - val_loss: 0.3265 - val_accuracy: 0.9498 - 3s/epoch - 5ms/step\n",
            "Epoch 226/250\n",
            "525/525 - 3s - loss: 0.2306 - accuracy: 0.9339 - val_loss: 0.3315 - val_accuracy: 0.9500 - 3s/epoch - 5ms/step\n",
            "Epoch 227/250\n",
            "525/525 - 3s - loss: 0.2229 - accuracy: 0.9360 - val_loss: 0.3844 - val_accuracy: 0.9468 - 3s/epoch - 6ms/step\n",
            "Epoch 228/250\n",
            "525/525 - 4s - loss: 0.2355 - accuracy: 0.9330 - val_loss: 0.3733 - val_accuracy: 0.9475 - 4s/epoch - 7ms/step\n",
            "Epoch 229/250\n",
            "525/525 - 3s - loss: 0.2410 - accuracy: 0.9325 - val_loss: 0.3914 - val_accuracy: 0.9469 - 3s/epoch - 5ms/step\n",
            "Epoch 230/250\n",
            "525/525 - 3s - loss: 0.2267 - accuracy: 0.9358 - val_loss: 0.3832 - val_accuracy: 0.9480 - 3s/epoch - 5ms/step\n",
            "Epoch 231/250\n",
            "525/525 - 3s - loss: 0.2331 - accuracy: 0.9325 - val_loss: 0.3276 - val_accuracy: 0.9493 - 3s/epoch - 6ms/step\n",
            "Epoch 232/250\n",
            "525/525 - 4s - loss: 0.2252 - accuracy: 0.9349 - val_loss: 0.3887 - val_accuracy: 0.9421 - 4s/epoch - 7ms/step\n",
            "Epoch 233/250\n",
            "525/525 - 3s - loss: 0.2353 - accuracy: 0.9338 - val_loss: 0.3881 - val_accuracy: 0.9457 - 3s/epoch - 5ms/step\n",
            "Epoch 234/250\n",
            "525/525 - 3s - loss: 0.2295 - accuracy: 0.9356 - val_loss: 0.3608 - val_accuracy: 0.9460 - 3s/epoch - 5ms/step\n",
            "Epoch 235/250\n",
            "525/525 - 3s - loss: 0.2408 - accuracy: 0.9330 - val_loss: 0.3808 - val_accuracy: 0.9480 - 3s/epoch - 5ms/step\n",
            "Epoch 236/250\n",
            "525/525 - 4s - loss: 0.2330 - accuracy: 0.9323 - val_loss: 0.3341 - val_accuracy: 0.9474 - 4s/epoch - 8ms/step\n",
            "Epoch 237/250\n",
            "525/525 - 3s - loss: 0.2328 - accuracy: 0.9332 - val_loss: 0.3481 - val_accuracy: 0.9477 - 3s/epoch - 5ms/step\n",
            "Epoch 238/250\n",
            "525/525 - 3s - loss: 0.2265 - accuracy: 0.9362 - val_loss: 0.3605 - val_accuracy: 0.9482 - 3s/epoch - 5ms/step\n",
            "Epoch 239/250\n",
            "525/525 - 3s - loss: 0.2326 - accuracy: 0.9341 - val_loss: 0.3761 - val_accuracy: 0.9477 - 3s/epoch - 5ms/step\n",
            "Epoch 240/250\n",
            "525/525 - 4s - loss: 0.2328 - accuracy: 0.9326 - val_loss: 0.3695 - val_accuracy: 0.9468 - 4s/epoch - 7ms/step\n",
            "Epoch 241/250\n",
            "525/525 - 3s - loss: 0.2290 - accuracy: 0.9346 - val_loss: 0.4047 - val_accuracy: 0.9475 - 3s/epoch - 5ms/step\n",
            "Epoch 242/250\n",
            "525/525 - 3s - loss: 0.2377 - accuracy: 0.9344 - val_loss: 0.3756 - val_accuracy: 0.9452 - 3s/epoch - 5ms/step\n",
            "Epoch 243/250\n",
            "525/525 - 3s - loss: 0.2392 - accuracy: 0.9321 - val_loss: 0.3943 - val_accuracy: 0.9470 - 3s/epoch - 5ms/step\n",
            "Epoch 244/250\n",
            "525/525 - 4s - loss: 0.2361 - accuracy: 0.9310 - val_loss: 0.3796 - val_accuracy: 0.9467 - 4s/epoch - 8ms/step\n",
            "Epoch 245/250\n",
            "525/525 - 3s - loss: 0.2343 - accuracy: 0.9322 - val_loss: 0.3614 - val_accuracy: 0.9492 - 3s/epoch - 5ms/step\n",
            "Epoch 246/250\n",
            "525/525 - 3s - loss: 0.2333 - accuracy: 0.9337 - val_loss: 0.3447 - val_accuracy: 0.9467 - 3s/epoch - 5ms/step\n",
            "Epoch 247/250\n",
            "525/525 - 3s - loss: 0.2295 - accuracy: 0.9329 - val_loss: 0.4124 - val_accuracy: 0.9451 - 3s/epoch - 5ms/step\n",
            "Epoch 248/250\n",
            "525/525 - 4s - loss: 0.2252 - accuracy: 0.9350 - val_loss: 0.3553 - val_accuracy: 0.9473 - 4s/epoch - 7ms/step\n",
            "Epoch 249/250\n",
            "525/525 - 3s - loss: 0.2381 - accuracy: 0.9306 - val_loss: 0.4207 - val_accuracy: 0.9471 - 3s/epoch - 5ms/step\n",
            "Epoch 250/250\n",
            "525/525 - 3s - loss: 0.2165 - accuracy: 0.9383 - val_loss: 0.3845 - val_accuracy: 0.9481 - 3s/epoch - 5ms/step\n"
          ]
        }
      ],
      "source": [
        "hist = model.fit(x_train, y_train_ohe, validation_data=(x_test, y_test_ohe), epochs = 250, batch_size = 64, verbose=2)"
      ]
    },
    {
      "cell_type": "code",
      "execution_count": null,
      "metadata": {
        "colab": {
          "base_uri": "https://localhost:8080/"
        },
        "id": "iBCOePzAj4MS",
        "outputId": "db41bfde-99da-41d9-b113-c1679a682697"
      },
      "outputs": [
        {
          "output_type": "display_data",
          "data": {
            "text/plain": [
              "<Figure size 640x480 with 1 Axes>"
            ],
            "image/png": "[encoded data removed]"
          },
          "metadata": {}
        }
      ],
      "source": [
        "plt.plot(hist.history['accuracy'])\n",
        "plt.plot(hist.history['val_accuracy'])\n",
        "plt.xlabel('Number of Epochs')\n",
        "plt.ylabel('Accuracy')\n",
        "plt.title('Model Accuracy across the epochs')\n",
        "plt.legend([\"Train accuracy\", \"Test accuracy\"])\n",
        "plt.show()"
      ]
    },
    {
      "cell_type": "code",
      "execution_count": null,
      "metadata": {
        "colab": {
          "base_uri": "https://localhost:8080/"
        },
        "id": "p5udf6ePkHD8",
        "outputId": "b906fd6e-1be8-4c82-bf3b-6d1de2c9323d"
      },
      "outputs": [
        {
          "output_type": "execute_result",
          "data": {
            "text/plain": [
              "[<matplotlib.lines.Line2D at 0x7f77ac788370>]"
            ]
          },
          "metadata": {},
          "execution_count": 40
        },
        {
          "output_type": "display_data",
          "data": {
            "text/plain": [
              "<Figure size 640x480 with 1 Axes>"
            ],
            "image/png": "[encoded data removed]"
          },
          "metadata": {}
        }
      ],
      "source": [
        "plt.xlabel('Number of Epochs')\n",
        "plt.ylabel('Loss')\n",
        "plt.title('Model Loss across the epochs')\n",
        "plt.legend([\"Train Loss\", \"Test Loss\"])\n",
        "plt.plot(hist.history['loss'])\n",
        "plt.plot(hist.history['val_loss'])"
      ]
    }
  ],
  "metadata": {
    "colab": {
      "provenance": [],
      "include_colab_link": true
    },
    "kernelspec": {
      "display_name": "Python 3",
      "name": "python3"
    },
    "language_info": {
      "name": "python"
    }
  },
  "nbformat": 4,
  "nbformat_minor": 0
}